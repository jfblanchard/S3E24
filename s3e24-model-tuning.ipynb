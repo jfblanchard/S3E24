{
 "metadata": {
  "kernelspec": {
   "language": "python",
   "display_name": "Python 3",
   "name": "python3"
  },
  "language_info": {
   "name": "python",
   "version": "3.10.12",
   "mimetype": "text/x-python",
   "codemirror_mode": {
    "name": "ipython",
    "version": 3
   },
   "pygments_lexer": "ipython3",
   "nbconvert_exporter": "python",
   "file_extension": ".py"
  }
 },
 "nbformat_minor": 4,
 "nbformat": 4,
 "cells": [
  {
   "cell_type": "markdown",
   "source": [
    "# S3E24 Model Tuning\n",
    "* 3 model ensemble is a blend of these three models\n",
    "    * Catboost\n",
    "    * XGBoost\n",
    "    * LightGBM\n",
    "* Other models included here but not in ensemble\n",
    "    * Logistic Regression\n",
    "    * Random Forest\n",
    "<p>\n",
    "* Note: should tune RF elsewhere since it is so slow"
   ],
   "metadata": {
    "_uuid": "8f2839f25d086af736a60e9eeb907d3b93b6e0e5",
    "_cell_guid": "b1076dfc-b9ad-4769-8c92-a6c4dae69d19"
   }
  },
  {
   "cell_type": "markdown",
   "source": [
    "# Installs"
   ],
   "metadata": {}
  },
  {
   "cell_type": "code",
   "source": [
    "# scienceplots produces IEEE style plots\n",
    "!pip install -q scienceplots"
   ],
   "metadata": {
    "execution": {
     "iopub.status.busy": "2023-10-27T15:23:09.292320Z",
     "iopub.execute_input": "2023-10-27T15:23:09.293177Z",
     "iopub.status.idle": "2023-10-27T15:23:21.874681Z",
     "shell.execute_reply.started": "2023-10-27T15:23:09.293142Z",
     "shell.execute_reply": "2023-10-27T15:23:21.873523Z"
    },
    "trusted": true,
    "ExecuteTime": {
     "end_time": "2023-10-27T20:28:20.709182208Z",
     "start_time": "2023-10-27T20:28:19.852117342Z"
    }
   },
   "execution_count": 36,
   "outputs": []
  },
  {
   "cell_type": "markdown",
   "source": [
    "# Imports"
   ],
   "metadata": {}
  },
  {
   "cell_type": "code",
   "source": [
    "import os, glob, pathlib\n",
    "import pickle\n",
    "import numpy as np\n",
    "import pandas as pd\n",
    "\n",
    "import matplotlib.pyplot as plt\n",
    "import seaborn as sns\n",
    "sns.set_style('darkgrid')\n",
    "import plotly.express as px\n",
    "\n",
    "import scienceplots\n",
    "plt.style.use(['science','no-latex'])  # not sure how to set up latex in kaggle yet.\n",
    "\n",
    "import warnings\n",
    "warnings.filterwarnings('ignore')"
   ],
   "metadata": {
    "execution": {
     "iopub.status.busy": "2023-10-27T15:23:21.876898Z",
     "iopub.execute_input": "2023-10-27T15:23:21.877191Z",
     "iopub.status.idle": "2023-10-27T15:23:23.556516Z",
     "shell.execute_reply.started": "2023-10-27T15:23:21.877164Z",
     "shell.execute_reply": "2023-10-27T15:23:23.555538Z"
    },
    "trusted": true,
    "ExecuteTime": {
     "end_time": "2023-10-27T20:28:21.214490980Z",
     "start_time": "2023-10-27T20:28:21.212616419Z"
    }
   },
   "execution_count": 37,
   "outputs": []
  },
  {
   "cell_type": "markdown",
   "source": [
    "# Read Data"
   ],
   "metadata": {}
  },
  {
   "cell_type": "code",
   "source": [
    "kaggle_env = False   # TODO: an auto check to see where I am working\n",
    "\n",
    "if kaggle_env == True:\n",
    "    root_dir = '/kaggle/input/playground-series-s3e24'\n",
    "else:\n",
    "    root_dir = '.'\n",
    "\n",
    "train = pd.read_csv(root_dir + '/train.csv')\n",
    "test = pd.read_csv(root_dir + '/test.csv')\n",
    "ss = pd.read_csv(root_dir + '/sample_submission.csv')"
   ],
   "metadata": {
    "execution": {
     "iopub.status.busy": "2023-10-27T15:23:23.557698Z",
     "iopub.execute_input": "2023-10-27T15:23:23.558084Z",
     "iopub.status.idle": "2023-10-27T15:23:24.420411Z",
     "shell.execute_reply.started": "2023-10-27T15:23:23.558060Z",
     "shell.execute_reply": "2023-10-27T15:23:24.419616Z"
    },
    "trusted": true,
    "ExecuteTime": {
     "end_time": "2023-10-27T20:28:22.766270156Z",
     "start_time": "2023-10-27T20:28:22.641714853Z"
    }
   },
   "execution_count": 38,
   "outputs": []
  },
  {
   "cell_type": "code",
   "source": [
    "all_features = [col for col in test.columns if 'id' not in col]\n",
    "int_features = [col for col in test.columns if 'id' not in col and test[col].dtype=='int']\n",
    "float_features = [col for col in test.columns if test[col].dtype=='float']\n",
    "\n",
    "features = all_features\n",
    "features"
   ],
   "metadata": {
    "execution": {
     "iopub.status.busy": "2023-10-27T15:23:24.422648Z",
     "iopub.execute_input": "2023-10-27T15:23:24.423352Z",
     "iopub.status.idle": "2023-10-27T15:23:24.437181Z",
     "shell.execute_reply.started": "2023-10-27T15:23:24.423318Z",
     "shell.execute_reply": "2023-10-27T15:23:24.436219Z"
    },
    "trusted": true,
    "ExecuteTime": {
     "end_time": "2023-10-27T20:28:23.852856502Z",
     "start_time": "2023-10-27T20:28:23.848412858Z"
    }
   },
   "execution_count": 39,
   "outputs": [
    {
     "data": {
      "text/plain": "['age',\n 'height(cm)',\n 'weight(kg)',\n 'waist(cm)',\n 'eyesight(left)',\n 'eyesight(right)',\n 'hearing(left)',\n 'hearing(right)',\n 'systolic',\n 'relaxation',\n 'fasting blood sugar',\n 'Cholesterol',\n 'HDL',\n 'LDL',\n 'hemoglobin',\n 'Urine protein',\n 'serum creatinine',\n 'AST',\n 'ALT',\n 'Gtp',\n 'dental caries']"
     },
     "execution_count": 39,
     "metadata": {},
     "output_type": "execute_result"
    }
   ]
  },
  {
   "cell_type": "markdown",
   "source": [
    "# Feature Engineering"
   ],
   "metadata": {
    "collapsed": false
   }
  },
  {
   "cell_type": "code",
   "execution_count": 48,
   "outputs": [],
   "source": [
    "train[train['eyesight(left)'] > 9.0] = 0\n",
    "train[train['eyesight(right)'] > 9.0] = 0\n",
    "\n",
    "test[test['eyesight(left)'] > 9.0] = 0\n",
    "test[test['eyesight(right)'] > 9.0] = 0\n"
   ],
   "metadata": {
    "collapsed": false,
    "ExecuteTime": {
     "end_time": "2023-10-27T20:32:23.448368150Z",
     "start_time": "2023-10-27T20:32:23.433914706Z"
    }
   }
  },
  {
   "cell_type": "code",
   "execution_count": 50,
   "outputs": [
    {
     "data": {
      "text/plain": "2.0"
     },
     "execution_count": 50,
     "metadata": {},
     "output_type": "execute_result"
    }
   ],
   "source": [
    "train['eyesight(right)'].max()"
   ],
   "metadata": {
    "collapsed": false,
    "ExecuteTime": {
     "end_time": "2023-10-27T20:32:41.397042973Z",
     "start_time": "2023-10-27T20:32:41.358055456Z"
    }
   }
  },
  {
   "cell_type": "markdown",
   "source": [
    "# Cross Validation"
   ],
   "metadata": {}
  },
  {
   "cell_type": "code",
   "source": [
    "from sklearn.model_selection import train_test_split, StratifiedKFold\n",
    "\n",
    "folds = 5\n",
    "seed = 12"
   ],
   "metadata": {
    "execution": {
     "iopub.status.busy": "2023-10-27T15:23:24.438231Z",
     "iopub.execute_input": "2023-10-27T15:23:24.438587Z",
     "iopub.status.idle": "2023-10-27T15:23:24.592515Z",
     "shell.execute_reply.started": "2023-10-27T15:23:24.438555Z",
     "shell.execute_reply": "2023-10-27T15:23:24.591511Z"
    },
    "trusted": true,
    "ExecuteTime": {
     "end_time": "2023-10-27T20:32:51.127638812Z",
     "start_time": "2023-10-27T20:32:51.122272545Z"
    }
   },
   "execution_count": 51,
   "outputs": []
  },
  {
   "cell_type": "code",
   "source": [
    "# if continuous, change predict_proba to predict\n",
    "def run_cv_and_predict(train, test, features, model, seed):\n",
    "    \n",
    "    # initialize arrays \n",
    "    fold_scores = []\n",
    "    oof = np.zeros(train.shape[0])\n",
    "    preds = np.zeros((test.shape[0],folds))\n",
    "\n",
    "    # setup folding strategy\n",
    "    skf = StratifiedKFold(n_splits=folds,random_state = seed,shuffle=True)\n",
    "    # Use KFold if target is continuous\n",
    "    #skf = KFold(n_splits=folds,random_state = seed,shuffle=True)\n",
    "\n",
    "    # start cross validation\n",
    "    cur_fold = 1\n",
    "    for trn_idx, val_idx in skf.split(train[features], y):\n",
    "\n",
    "        # split indices into train and validation\n",
    "        x_train = train[features].iloc[trn_idx]\n",
    "        y_train = y.iloc[trn_idx]\n",
    "        x_valid = train[features].iloc[val_idx]\n",
    "        y_valid = y.iloc[val_idx]\n",
    "\n",
    "        # fit model\n",
    "        model.fit(x_train,y_train)\n",
    "\n",
    "        # predict on validation set\n",
    "        fold_preds = model.predict_proba(x_valid)[:,1]\n",
    "        fold_preds = fold_preds.reshape(len(fold_preds)) # sbabwtdt\n",
    "        oof[val_idx] = fold_preds\n",
    "\n",
    "        # Compute scores\n",
    "        fold_score = roc_auc_score(y_valid,fold_preds)  # CHOOSE METRIC HERE\n",
    "        fold_scores.append(fold_score)\n",
    "        #print(f'ROC AUC Score, fold {cur_fold}: {fold_score}')\n",
    "\n",
    "        # predict on test set - store all fold preds (take mode later)\n",
    "        test_preds = model.predict_proba(test[features])[:,1]\n",
    "        test_preds = test_preds.reshape(len(test_preds))  # shouldn't have to do this.\n",
    "        preds[:,cur_fold-1] = test_preds  \n",
    "        cur_fold +=1\n",
    "    \n",
    "    # Print mean fold and oof score \n",
    "    oof_score = roc_auc_score(y,oof)\n",
    "    # oof_score = np.sqrt(mean_squared_error(y,oof))\n",
    "    print(f'ROC AUC score: {np.mean(fold_scores):.5f}, Stdev: {np.std(fold_scores):.5f}, OOF score: {oof_score:.5f}')\n",
    "    # print(f'RMSE score: {np.mean(scores):.5f}, Stdev: {np.std(scores):.5f}, OOF score: {oof_score:.5f}')\n",
    "\n",
    "    return (preds,fold_scores,oof_score,oof)"
   ],
   "metadata": {
    "execution": {
     "iopub.status.busy": "2023-10-27T15:23:24.593772Z",
     "iopub.execute_input": "2023-10-27T15:23:24.594045Z",
     "iopub.status.idle": "2023-10-27T15:23:24.604027Z",
     "shell.execute_reply.started": "2023-10-27T15:23:24.594021Z",
     "shell.execute_reply": "2023-10-27T15:23:24.603099Z"
    },
    "trusted": true,
    "ExecuteTime": {
     "end_time": "2023-10-27T20:32:51.351090837Z",
     "start_time": "2023-10-27T20:32:51.347260318Z"
    }
   },
   "execution_count": 52,
   "outputs": []
  },
  {
   "cell_type": "markdown",
   "source": [
    "# Models"
   ],
   "metadata": {}
  },
  {
   "cell_type": "code",
   "source": [
    "from sklearn.linear_model import LogisticRegression   # try CV too\n",
    "from sklearn.metrics import roc_auc_score,roc_curve"
   ],
   "metadata": {
    "execution": {
     "iopub.status.busy": "2023-10-27T15:23:24.605360Z",
     "iopub.execute_input": "2023-10-27T15:23:24.605639Z",
     "iopub.status.idle": "2023-10-27T15:23:24.698589Z",
     "shell.execute_reply.started": "2023-10-27T15:23:24.605594Z",
     "shell.execute_reply": "2023-10-27T15:23:24.697858Z"
    },
    "trusted": true,
    "ExecuteTime": {
     "end_time": "2023-10-27T20:32:52.633167144Z",
     "start_time": "2023-10-27T20:32:52.623645975Z"
    }
   },
   "execution_count": 53,
   "outputs": []
  },
  {
   "cell_type": "markdown",
   "source": [
    "## Split Data"
   ],
   "metadata": {}
  },
  {
   "cell_type": "code",
   "source": [
    "# start with train-test split\n",
    "y = train['smoking']\n",
    "# x_train, x_valid, y_train, y_valid = train_test_split(train[features], y, train_size=0.8, test_size=0.2,\n",
    "#                                                       random_state=12)\n",
    "\n",
    "x_test = test[features]"
   ],
   "metadata": {
    "execution": {
     "iopub.status.busy": "2023-10-27T15:23:26.224770Z",
     "iopub.execute_input": "2023-10-27T15:23:26.225408Z",
     "iopub.status.idle": "2023-10-27T15:23:26.241645Z",
     "shell.execute_reply.started": "2023-10-27T15:23:26.225374Z",
     "shell.execute_reply": "2023-10-27T15:23:26.240649Z"
    },
    "trusted": true,
    "ExecuteTime": {
     "end_time": "2023-10-27T20:32:54.133704758Z",
     "start_time": "2023-10-27T20:32:54.126430728Z"
    }
   },
   "execution_count": 54,
   "outputs": []
  },
  {
   "cell_type": "markdown",
   "source": [
    "## Baseline Model - Logistic Regression"
   ],
   "metadata": {}
  },
  {
   "cell_type": "code",
   "source": [
    "\n",
    "model_lr = LogisticRegression()#C=10)\n",
    "preds_lr,scores_lr,oof_score_lr,oof_lr = run_cv_and_predict(train,test,features,model_lr,seed)\n",
    "\n",
    "\n",
    "# model.fit(x_train,y_train)\n",
    "# val_preds = model.predict_proba(x_valid)[:,1]  \n",
    "# score = roc_auc_score(y_valid, val_preds)   # make sure true is first\n",
    "# print(f'ROC AUC Score = {score:.5f}')\n",
    "\n",
    "\n",
    "# default lr, no feature engineering, all features, tts = .81622, lb = .81916\n",
    "# int features = .80181, lb = .80703\n",
    "# float features = .76748, lb = .77048\n",
    "# cross validation: .81702, lb = "
   ],
   "metadata": {
    "execution": {
     "iopub.status.busy": "2023-10-27T15:23:28.947139Z",
     "iopub.execute_input": "2023-10-27T15:23:28.948242Z",
     "iopub.status.idle": "2023-10-27T15:23:37.636368Z",
     "shell.execute_reply.started": "2023-10-27T15:23:28.948208Z",
     "shell.execute_reply": "2023-10-27T15:23:37.634889Z"
    },
    "trusted": true,
    "ExecuteTime": {
     "end_time": "2023-10-27T20:33:00.224808034Z",
     "start_time": "2023-10-27T20:32:57.383953071Z"
    }
   },
   "execution_count": 55,
   "outputs": [
    {
     "name": "stdout",
     "output_type": "stream",
     "text": [
      "ROC AUC score: 0.81740, Stdev: 0.00182, OOF score: 0.81739\n"
     ]
    }
   ]
  },
  {
   "cell_type": "markdown",
   "source": [
    "### Plot ROC Curve"
   ],
   "metadata": {}
  },
  {
   "cell_type": "code",
   "source": [
    "def plot_roc_curve(y_actual,y_preds, model_type='Unspecified'):\n",
    "    plt.figure(figsize=(5,3.5))\n",
    "    fpr,tpr,_ = roc_curve(y_actual,y_preds)\n",
    "    plt.plot(fpr,tpr, label=f'AUC = {np.mean(scores_lr):.5}')\n",
    "    plt.legend(loc='lower right')\n",
    "    plt.title(f'ROC AUC Score for {model_type}')\n",
    "    plt.show()\n",
    "    \n",
    "    \n",
    "plot_roc_curve(y, oof_lr, 'Logistic Regression')"
   ],
   "metadata": {
    "execution": {
     "iopub.status.busy": "2023-10-27T15:23:37.638736Z",
     "iopub.execute_input": "2023-10-27T15:23:37.639397Z",
     "iopub.status.idle": "2023-10-27T15:23:38.394739Z",
     "shell.execute_reply.started": "2023-10-27T15:23:37.639354Z",
     "shell.execute_reply": "2023-10-27T15:23:38.393776Z"
    },
    "trusted": true,
    "ExecuteTime": {
     "end_time": "2023-10-27T20:33:08.117137272Z",
     "start_time": "2023-10-27T20:33:07.873723695Z"
    }
   },
   "execution_count": 56,
   "outputs": [
    {
     "data": {
      "text/plain": "<Figure size 500x350 with 1 Axes>",
      "image/png": "[encoded data removed]"
     },
     "metadata": {},
     "output_type": "display_data"
    }
   ]
  },
  {
   "cell_type": "markdown",
   "source": [
    "## Random Forest\n",
    "* Slowest = about 4 min run time"
   ],
   "metadata": {}
  },
  {
   "cell_type": "code",
   "source": [
    "# %%time\n",
    "# from sklearn.ensemble import RandomForestClassifier\n",
    "\n",
    "# model_rf = RandomForestClassifier()\n",
    "\n",
    "# preds_rf,scores_rf,oof_score_rf,oof_rf = run_cv_and_predict(train,test,features,model_rf,seed)\n",
    "\n",
    "# RF default ROC AUC score: 0.85248, Stdev: 0.00173, OOF score: 0.85247, lb = \n",
    "# 4 min run time"
   ],
   "metadata": {
    "execution": {
     "iopub.status.busy": "2023-10-27T15:23:38.395918Z",
     "iopub.execute_input": "2023-10-27T15:23:38.396199Z",
     "iopub.status.idle": "2023-10-27T15:23:38.400695Z",
     "shell.execute_reply.started": "2023-10-27T15:23:38.396175Z",
     "shell.execute_reply": "2023-10-27T15:23:38.399644Z"
    },
    "trusted": true,
    "ExecuteTime": {
     "end_time": "2023-10-27T20:33:09.021973755Z",
     "start_time": "2023-10-27T20:33:09.013867853Z"
    }
   },
   "execution_count": 57,
   "outputs": []
  },
  {
   "cell_type": "markdown",
   "source": [
    "## Catboost\n",
    "* About 2x speed of RF with current config, 2 min run time"
   ],
   "metadata": {}
  },
  {
   "cell_type": "markdown",
   "source": [
    "## Manual Tuning"
   ],
   "metadata": {
    "collapsed": false
   }
  },
  {
   "cell_type": "code",
   "source": [
    "%%time\n",
    "from catboost import CatBoostClassifier\n",
    "\n",
    "# Round 2: 1100-1500, 100 inc, learning rate: .15,.2,.25,.5, max depth: 7,9,11\n",
    "# Gradient optuna results: \n",
    "\n",
    "results = []\n",
    "\n",
    "for it in [1200,1400,1600,1800]:\n",
    "    for lr in [.06, .08,.09,.1,.125,.15,.2]:\n",
    "        for d in [4, 5,7,9,11]:\n",
    "            model_cat = CatBoostClassifier(verbose=0,n_estimators=it,learning_rate=lr,max_depth=d,task_type='GPU')\n",
    "            preds_cat, scores_cat, oof_score_cat, oof_cat = run_cv_and_predict(train,test,features,model_cat,seed)\n",
    "            print(f'est: {it}, lr: {lr}, depth: {d}, cv score: {np.mean(scores_cat)}')\n",
    "        \n",
    "            results.append([it,lr,d,np.mean(scores_cat)])\n",
    "            \n",
    "            \n",
    "# try random ranges instead\n",
    "\n",
    "\n",
    "# default ROC AUC score: 0.86531, Stdev: 0.00177, OOF score: 0.86529, lb = \n",
    "# 2 min run time\n",
    "# est: 1300, lr: 0.2, depth: 11, cv score: 0.8503321291349358\n",
    "# ROC AUC score: 0.86520, Stdev: 0.00183, OOF score: 0.86518"
   ],
   "metadata": {
    "execution": {
     "iopub.status.busy": "2023-10-27T15:25:58.243584Z",
     "iopub.execute_input": "2023-10-27T15:25:58.244536Z",
     "iopub.status.idle": "2023-10-27T15:25:58.613105Z",
     "shell.execute_reply.started": "2023-10-27T15:25:58.244501Z",
     "shell.execute_reply": "2023-10-27T15:25:58.612194Z"
    },
    "trusted": true,
    "ExecuteTime": {
     "end_time": "2023-10-27T20:33:10.792556988Z",
     "start_time": "2023-10-27T20:33:10.777990113Z"
    }
   },
   "execution_count": 58,
   "outputs": [
    {
     "name": "stdout",
     "output_type": "stream",
     "text": [
      "CPU times: user 5 µs, sys: 0 ns, total: 5 µs\n",
      "Wall time: 8.11 µs\n"
     ]
    }
   ]
  },
  {
   "cell_type": "code",
   "source": [
    "# results_df = pd.DataFrame(results,columns=['estimators','learning_rate','max_depth','cv_score'])\n",
    "# results_df.head()"
   ],
   "metadata": {
    "execution": {
     "iopub.status.busy": "2023-10-26T21:51:58.452486Z",
     "iopub.execute_input": "2023-10-26T21:51:58.452770Z",
     "iopub.status.idle": "2023-10-26T21:51:58.466062Z",
     "shell.execute_reply.started": "2023-10-26T21:51:58.452745Z",
     "shell.execute_reply": "2023-10-26T21:51:58.465076Z"
    },
    "trusted": true,
    "ExecuteTime": {
     "end_time": "2023-10-27T20:33:11.558493085Z",
     "start_time": "2023-10-27T20:33:11.553358601Z"
    }
   },
   "execution_count": 59,
   "outputs": []
  },
  {
   "cell_type": "code",
   "source": [
    "# TODO: write function to save data automatically\n",
    "# results_df.to_csv('20231026_cat_tuning.csv')"
   ],
   "metadata": {
    "execution": {
     "iopub.status.busy": "2023-10-26T21:52:15.563876Z",
     "iopub.execute_input": "2023-10-26T21:52:15.564207Z",
     "iopub.status.idle": "2023-10-26T21:52:15.571346Z",
     "shell.execute_reply.started": "2023-10-26T21:52:15.564182Z",
     "shell.execute_reply": "2023-10-26T21:52:15.570224Z"
    },
    "trusted": true,
    "ExecuteTime": {
     "end_time": "2023-10-27T20:33:12.234611489Z",
     "start_time": "2023-10-27T20:33:12.230162835Z"
    }
   },
   "execution_count": 60,
   "outputs": []
  },
  {
   "cell_type": "code",
   "source": [
    "# max_cv = results_df.cv_score.max()\n",
    "# results_df[results_df.cv_score == max_cv]"
   ],
   "metadata": {
    "execution": {
     "iopub.status.busy": "2023-10-26T22:03:27.701460Z",
     "iopub.execute_input": "2023-10-26T22:03:27.701857Z",
     "iopub.status.idle": "2023-10-26T22:03:27.709035Z",
     "shell.execute_reply.started": "2023-10-26T22:03:27.701823Z",
     "shell.execute_reply": "2023-10-26T22:03:27.708019Z"
    },
    "trusted": true,
    "ExecuteTime": {
     "end_time": "2023-10-27T20:33:12.815551812Z",
     "start_time": "2023-10-27T20:33:12.811016270Z"
    }
   },
   "execution_count": 61,
   "outputs": []
  },
  {
   "cell_type": "code",
   "source": [
    "# import plotly.express as px\n",
    "\n",
    "# fig = px.scatter_3d(results_df, x='estimators', y='max_depth', z='learning_rate',color='cv_score')  # scatter of 3 cols of df\n",
    "# fig.update_traces(marker={'size': 3})\n",
    "# fig.show(renderer='notebook')"
   ],
   "metadata": {
    "execution": {
     "iopub.status.busy": "2023-10-27T15:26:37.555248Z",
     "iopub.execute_input": "2023-10-27T15:26:37.555635Z",
     "iopub.status.idle": "2023-10-27T15:26:37.559759Z",
     "shell.execute_reply.started": "2023-10-27T15:26:37.555609Z",
     "shell.execute_reply": "2023-10-27T15:26:37.558860Z"
    },
    "trusted": true,
    "ExecuteTime": {
     "end_time": "2023-10-27T20:33:13.058184572Z",
     "start_time": "2023-10-27T20:33:13.045459239Z"
    }
   },
   "execution_count": 62,
   "outputs": []
  },
  {
   "cell_type": "markdown",
   "source": [
    "I like that I can rotate this grid around and look at where things seem to be heading.  From this, my next set will be from \n",
    "* estimators: 1100-1500, 100 inc, learning rate: .15,.2,.25,.5, max depth: 7,9,11"
   ],
   "metadata": {}
  },
  {
   "cell_type": "markdown",
   "source": [
    " ## Cat tuning with Optuna"
   ],
   "metadata": {}
  },
  {
   "cell_type": "code",
   "source": [
    "import optuna\n",
    "from optuna.samplers import TPESampler"
   ],
   "metadata": {
    "execution": {
     "iopub.status.busy": "2023-10-27T15:26:41.355737Z",
     "iopub.execute_input": "2023-10-27T15:26:41.356467Z",
     "iopub.status.idle": "2023-10-27T15:26:42.336023Z",
     "shell.execute_reply.started": "2023-10-27T15:26:41.356432Z",
     "shell.execute_reply": "2023-10-27T15:26:42.335129Z"
    },
    "trusted": true,
    "ExecuteTime": {
     "end_time": "2023-10-27T20:33:20.216983708Z",
     "start_time": "2023-10-27T20:33:20.214435576Z"
    }
   },
   "execution_count": 63,
   "outputs": []
  },
  {
   "cell_type": "code",
   "source": [
    "def objective(trial):\n",
    "    \n",
    "    scores = []\n",
    "    \n",
    "    model = CatBoostClassifier(\n",
    "        iterations=trial.suggest_int(\"iterations\", 50, 2000),\n",
    "        learning_rate=trial.suggest_float(\"learning_rate\", 1e-3, 3e-1, log=True),\n",
    "        depth=trial.suggest_int(\"depth\", 4, 10),\n",
    "        l2_leaf_reg=trial.suggest_float(\"l2_leaf_reg\", 1e-8, 100.0, log=True),\n",
    "        bootstrap_type=trial.suggest_categorical(\"bootstrap_type\", [\"Bayesian\"]),\n",
    "        random_strength=trial.suggest_float(\"random_strength\", 1e-8, 10.0, log=True),\n",
    "        bagging_temperature=trial.suggest_float(\"bagging_temperature\", 0.0, 10.0),\n",
    "        od_type=trial.suggest_categorical(\"od_type\", [\"IncToDec\", \"Iter\"]),\n",
    "        od_wait=trial.suggest_int(\"od_wait\", 10, 50),\n",
    "        random_seed=12,\n",
    "        verbose=False\n",
    "    )\n",
    "    \n",
    "    # do cross validation - 5 folds\n",
    "    skf = StratifiedKFold(n_splits=folds,random_state = seed,shuffle=True)\n",
    "\n",
    "    # start cross validation\n",
    "    cur_fold = 1\n",
    "    for trn_idx, val_idx in skf.split(train[features], y):\n",
    "\n",
    "        # split indicies into train and validation\n",
    "        x_train = train[features].iloc[trn_idx]\n",
    "        y_train = y.iloc[trn_idx]\n",
    "        x_valid = train[features].iloc[val_idx]\n",
    "        y_valid = y.iloc[val_idx]\n",
    "\n",
    "        # fit model\n",
    "        model.fit(x_train,y_train)\n",
    "\n",
    "        # predict on validation set\n",
    "        fold_preds = model.predict_proba(x_valid)[:,1]\n",
    "        fold_score = roc_auc_score(y_valid,fold_preds) \n",
    "        scores.append(fold_score)\n",
    "        #print(f'ROC AUC Score, fold {cur_fold}: {fold_score}')\n",
    "\n",
    "        # predict on test set - store all fold preds (take mode later)\n",
    "#         test_preds = model.predict_proba(test[features])[:,1]\n",
    "#         test_preds = test_preds.reshape(len(test_preds))  # shouldn't have to do this.\n",
    "#         preds[:,cur_fold-1] = test_preds \n",
    "        \n",
    "        cur_fold +=1\n",
    "    \n",
    "\n",
    "    return np.mean(scores)\n"
   ],
   "metadata": {
    "execution": {
     "iopub.status.busy": "2023-10-27T15:29:44.702477Z",
     "iopub.execute_input": "2023-10-27T15:29:44.703298Z",
     "iopub.status.idle": "2023-10-27T15:29:44.713329Z",
     "shell.execute_reply.started": "2023-10-27T15:29:44.703244Z",
     "shell.execute_reply": "2023-10-27T15:29:44.712346Z"
    },
    "trusted": true,
    "ExecuteTime": {
     "end_time": "2023-10-27T20:33:22.919882571Z",
     "start_time": "2023-10-27T20:33:22.916672953Z"
    }
   },
   "execution_count": 64,
   "outputs": []
  },
  {
   "cell_type": "code",
   "source": [
    "# create the study\n",
    "optuna.logging.set_verbosity(optuna.logging.WARNING)\n",
    "\n",
    "sampler = TPESampler(seed=12)\n",
    "study = optuna.create_study(study_name=\"catboost\", direction=\"maximize\", sampler=sampler)\n",
    "study.optimize(objective, n_trials=100)"
   ],
   "metadata": {
    "execution": {
     "iopub.status.busy": "2023-10-27T15:29:46.401092Z",
     "iopub.execute_input": "2023-10-27T15:29:46.401983Z",
     "iopub.status.idle": "2023-10-27T15:44:55.473369Z",
     "shell.execute_reply.started": "2023-10-27T15:29:46.401948Z",
     "shell.execute_reply": "2023-10-27T15:44:55.472523Z"
    },
    "trusted": true,
    "ExecuteTime": {
     "end_time": "2023-10-27T21:13:08.437379925Z",
     "start_time": "2023-10-27T20:33:43.843887119Z"
    }
   },
   "execution_count": 65,
   "outputs": []
  },
  {
   "cell_type": "code",
   "source": [
    "# evaluate the trial\n",
    "print(\"Number of finished trials: \", len(study.trials))\n",
    "print(\"Best trial:\")\n",
    "trial = study.best_trial\n",
    "print(\"  Value: \", trial.value)\n",
    "print(\"  Params: \")\n",
    "for key, value in trial.params.items():\n",
    "    print(\"    {}: {}\".format(key, value))\n",
    "\n",
    "# ver1 best: cv = .86574\n",
    "# make eyesight 9.9 be 0.0, cv = \n"
   ],
   "metadata": {
    "execution": {
     "iopub.status.busy": "2023-10-27T15:44:55.474929Z",
     "iopub.execute_input": "2023-10-27T15:44:55.475218Z",
     "iopub.status.idle": "2023-10-27T15:44:55.484187Z",
     "shell.execute_reply.started": "2023-10-27T15:44:55.475193Z",
     "shell.execute_reply": "2023-10-27T15:44:55.483310Z"
    },
    "trusted": true,
    "ExecuteTime": {
     "end_time": "2023-10-27T21:13:08.482374934Z",
     "start_time": "2023-10-27T21:13:08.478063737Z"
    }
   },
   "execution_count": 66,
   "outputs": [
    {
     "name": "stdout",
     "output_type": "stream",
     "text": [
      "Number of finished trials:  100\n",
      "Best trial:\n",
      "  Value:  0.8664037848814272\n",
      "  Params: \n",
      "    iterations: 1594\n",
      "    learning_rate: 0.08597479446270902\n",
      "    depth: 5\n",
      "    l2_leaf_reg: 59.431838236102124\n",
      "    bootstrap_type: Bayesian\n",
      "    random_strength: 1.7517306213024682e-07\n",
      "    bagging_temperature: 0.31515216056522827\n",
      "    od_type: IncToDec\n",
      "    od_wait: 31\n"
     ]
    }
   ]
  },
  {
   "cell_type": "code",
   "source": [
    "# create model with best hyperparams\n",
    "best_cat_model = CatBoostClassifier(**trial.params, verbose=False)\n",
    "best_cat_model.fit(train[features], y)\n",
    "cat_preds = best_cat_model.predict_proba(x_test)[:,1]\n",
    "\n",
    "# best of 10 trials = .862"
   ],
   "metadata": {
    "execution": {
     "iopub.status.busy": "2023-10-27T16:13:33.674554Z",
     "iopub.execute_input": "2023-10-27T16:13:33.675441Z",
     "iopub.status.idle": "2023-10-27T16:13:48.521997Z",
     "shell.execute_reply.started": "2023-10-27T16:13:33.675407Z",
     "shell.execute_reply": "2023-10-27T16:13:48.520895Z"
    },
    "trusted": true,
    "ExecuteTime": {
     "end_time": "2023-10-27T21:13:13.459208809Z",
     "start_time": "2023-10-27T21:13:08.478278821Z"
    }
   },
   "execution_count": 67,
   "outputs": []
  },
  {
   "cell_type": "code",
   "execution_count": 68,
   "outputs": [],
   "source": [
    "# can also save the model (instead of importing parameters\n",
    "pickle.dump(best_cat_model, open(\"catboost_optuna2.pkl\", \"wb\"))\n"
   ],
   "metadata": {
    "collapsed": false,
    "ExecuteTime": {
     "end_time": "2023-10-27T21:13:13.466761255Z",
     "start_time": "2023-10-27T21:13:13.459520494Z"
    }
   }
  },
  {
   "cell_type": "markdown",
   "source": [
    "## LightGBM\n",
    "* super fast ~= 40 sec"
   ],
   "metadata": {}
  },
  {
   "cell_type": "code",
   "source": [
    "%%time\n",
    "from lightgbm import LGBMClassifier\n",
    "model_lgbm = LGBMClassifier()\n",
    "\n",
    "preds_lgbm, scores_lgbm, oof_score_lgbm, oof_lgbm = run_cv_and_predict(train,test,features,model_lgbm,seed)\n",
    "\n",
    "# default: ROC AUC score: 0.86130, Stdev: 0.00173, OOF score: 0.86128, lb = "
   ],
   "metadata": {
    "execution": {
     "iopub.status.busy": "2023-10-26T19:54:04.648833Z",
     "iopub.execute_input": "2023-10-26T19:54:04.649191Z",
     "iopub.status.idle": "2023-10-26T19:54:19.338667Z",
     "shell.execute_reply.started": "2023-10-26T19:54:04.649161Z",
     "shell.execute_reply": "2023-10-26T19:54:19.337590Z"
    },
    "trusted": true,
    "ExecuteTime": {
     "end_time": "2023-10-27T23:01:34.669416463Z",
     "start_time": "2023-10-27T23:01:33.184846221Z"
    }
   },
   "execution_count": 70,
   "outputs": [
    {
     "name": "stdout",
     "output_type": "stream",
     "text": [
      "[LightGBM] [Warning] Found whitespace in feature_names, replace with underlines\n",
      "[LightGBM] [Info] Number of positive: 55663, number of negative: 71741\n",
      "[LightGBM] [Info] Auto-choosing row-wise multi-threading, the overhead of testing was 0.001793 seconds.\n",
      "You can set `force_row_wise=true` to remove the overhead.\n",
      "And if memory is not enough, you can set `force_col_wise=true`.\n",
      "[LightGBM] [Info] Total Bins 1889\n",
      "[LightGBM] [Info] Number of data points in the train set: 127404, number of used features: 21\n",
      "[LightGBM] [Info] [binary:BoostFromScore]: pavg=0.436902 -> initscore=-0.253747\n",
      "[LightGBM] [Info] Start training from score -0.253747\n",
      "[LightGBM] [Warning] Found whitespace in feature_names, replace with underlines\n",
      "[LightGBM] [Info] Number of positive: 55663, number of negative: 71742\n",
      "[LightGBM] [Info] Auto-choosing row-wise multi-threading, the overhead of testing was 0.001767 seconds.\n",
      "You can set `force_row_wise=true` to remove the overhead.\n",
      "And if memory is not enough, you can set `force_col_wise=true`.\n",
      "[LightGBM] [Info] Total Bins 1887\n",
      "[LightGBM] [Info] Number of data points in the train set: 127405, number of used features: 21\n",
      "[LightGBM] [Info] [binary:BoostFromScore]: pavg=0.436898 -> initscore=-0.253761\n",
      "[LightGBM] [Info] Start training from score -0.253761\n",
      "[LightGBM] [Warning] Found whitespace in feature_names, replace with underlines\n",
      "[LightGBM] [Info] Number of positive: 55663, number of negative: 71742\n",
      "[LightGBM] [Info] Auto-choosing row-wise multi-threading, the overhead of testing was 0.001246 seconds.\n",
      "You can set `force_row_wise=true` to remove the overhead.\n",
      "And if memory is not enough, you can set `force_col_wise=true`.\n",
      "[LightGBM] [Info] Total Bins 1890\n",
      "[LightGBM] [Info] Number of data points in the train set: 127405, number of used features: 21\n",
      "[LightGBM] [Info] [binary:BoostFromScore]: pavg=0.436898 -> initscore=-0.253761\n",
      "[LightGBM] [Info] Start training from score -0.253761\n",
      "[LightGBM] [Warning] Found whitespace in feature_names, replace with underlines\n",
      "[LightGBM] [Info] Number of positive: 55663, number of negative: 71742\n",
      "[LightGBM] [Info] Auto-choosing row-wise multi-threading, the overhead of testing was 0.001642 seconds.\n",
      "You can set `force_row_wise=true` to remove the overhead.\n",
      "And if memory is not enough, you can set `force_col_wise=true`.\n",
      "[LightGBM] [Info] Total Bins 1881\n",
      "[LightGBM] [Info] Number of data points in the train set: 127405, number of used features: 21\n",
      "[LightGBM] [Info] [binary:BoostFromScore]: pavg=0.436898 -> initscore=-0.253761\n",
      "[LightGBM] [Info] Start training from score -0.253761\n",
      "[LightGBM] [Warning] Found whitespace in feature_names, replace with underlines\n",
      "[LightGBM] [Info] Number of positive: 55664, number of negative: 71741\n",
      "[LightGBM] [Info] Auto-choosing row-wise multi-threading, the overhead of testing was 0.001273 seconds.\n",
      "You can set `force_row_wise=true` to remove the overhead.\n",
      "And if memory is not enough, you can set `force_col_wise=true`.\n",
      "[LightGBM] [Info] Total Bins 1892\n",
      "[LightGBM] [Info] Number of data points in the train set: 127405, number of used features: 21\n",
      "[LightGBM] [Info] [binary:BoostFromScore]: pavg=0.436906 -> initscore=-0.253729\n",
      "[LightGBM] [Info] Start training from score -0.253729\n",
      "ROC AUC score: 0.86170, Stdev: 0.00245, OOF score: 0.86168\n",
      "CPU times: user 19.9 s, sys: 69.1 ms, total: 20 s\n",
      "Wall time: 1.48 s\n"
     ]
    }
   ]
  },
  {
   "cell_type": "markdown",
   "source": [
    "# Submission\n",
    "* Check submission CV vs LB"
   ],
   "metadata": {}
  },
  {
   "cell_type": "code",
   "source": [
    "ss.smoking = cat_preds\n",
    "ss.to_csv('submission.csv',index=False)\n",
    "ss.head(3)"
   ],
   "metadata": {
    "execution": {
     "iopub.status.busy": "2023-10-27T16:14:23.200173Z",
     "iopub.execute_input": "2023-10-27T16:14:23.200540Z",
     "iopub.status.idle": "2023-10-27T16:14:23.591468Z",
     "shell.execute_reply.started": "2023-10-27T16:14:23.200513Z",
     "shell.execute_reply": "2023-10-27T16:14:23.590449Z"
    },
    "trusted": true
   },
   "execution_count": 26,
   "outputs": [
    {
     "execution_count": 26,
     "output_type": "execute_result",
     "data": {
      "text/plain": "       id   smoking\n0  159256  0.514404\n1  159257  0.214076\n2  159258  0.406073",
      "text/html": "<div>\n<style scoped>\n    .dataframe tbody tr th:only-of-type {\n        vertical-align: middle;\n    }\n\n    .dataframe tbody tr th {\n        vertical-align: top;\n    }\n\n    .dataframe thead th {\n        text-align: right;\n    }\n</style>\n<table border=\"1\" class=\"dataframe\">\n  <thead>\n    <tr style=\"text-align: right;\">\n      <th></th>\n      <th>id</th>\n      <th>smoking</th>\n    </tr>\n  </thead>\n  <tbody>\n    <tr>\n      <th>0</th>\n      <td>159256</td>\n      <td>0.514404</td>\n    </tr>\n    <tr>\n      <th>1</th>\n      <td>159257</td>\n      <td>0.214076</td>\n    </tr>\n    <tr>\n      <th>2</th>\n      <td>159258</td>\n      <td>0.406073</td>\n    </tr>\n  </tbody>\n</table>\n</div>"
     },
     "metadata": {}
    }
   ]
  },
  {
   "cell_type": "code",
   "source": [
    "plt.figure(figsize=(5,3.5))\n",
    "ss.smoking.plot(kind='hist',bins=50)\n",
    "plt.title('Test Predictions');"
   ],
   "metadata": {
    "execution": {
     "iopub.status.busy": "2023-10-27T16:14:24.718960Z",
     "iopub.execute_input": "2023-10-27T16:14:24.719648Z",
     "iopub.status.idle": "2023-10-27T16:14:25.499580Z",
     "shell.execute_reply.started": "2023-10-27T16:14:24.719614Z",
     "shell.execute_reply": "2023-10-27T16:14:25.498707Z"
    },
    "trusted": true
   },
   "execution_count": 27,
   "outputs": [
    {
     "output_type": "display_data",
     "data": {
      "text/plain": "<Figure size 500x350 with 1 Axes>",
      "image/png": "[encoded data removed]"
     },
     "metadata": {}
    }
   ]
  }
 ]
}
