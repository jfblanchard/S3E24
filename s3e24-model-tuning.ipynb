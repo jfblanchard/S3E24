{
 "metadata": {
  "kernelspec": {
   "language": "python",
   "display_name": "Python 3",
   "name": "python3"
  },
  "language_info": {
   "name": "python",
   "version": "3.10.12",
   "mimetype": "text/x-python",
   "codemirror_mode": {
    "name": "ipython",
    "version": 3
   },
   "pygments_lexer": "ipython3",
   "nbconvert_exporter": "python",
   "file_extension": ".py"
  }
 },
 "nbformat_minor": 4,
 "nbformat": 4,
 "cells": [
  {
   "cell_type": "markdown",
   "source": [
    "# S3E24 Model Tuning\n",
    "* 3 model ensemble is a blend of these three models\n",
    "    * Catboost\n",
    "    * XGBoost\n",
    "    * LightGBM\n",
    "* Other models included here but not in ensemble\n",
    "    * Logistic Regression\n",
    "    * Random Forest\n",
    "<p>\n",
    "* Note: should tune RF elsewhere since it is so slow"
   ],
   "metadata": {
    "_uuid": "8f2839f25d086af736a60e9eeb907d3b93b6e0e5",
    "_cell_guid": "b1076dfc-b9ad-4769-8c92-a6c4dae69d19"
   }
  },
  {
   "cell_type": "markdown",
   "source": [
    "# Installs"
   ],
   "metadata": {}
  },
  {
   "cell_type": "code",
   "source": [
    "# scienceplots produces IEEE style plots\n",
    "!pip install -q scienceplots"
   ],
   "metadata": {
    "execution": {
     "iopub.status.busy": "2023-10-27T15:23:09.292320Z",
     "iopub.execute_input": "2023-10-27T15:23:09.293177Z",
     "iopub.status.idle": "2023-10-27T15:23:21.874681Z",
     "shell.execute_reply.started": "2023-10-27T15:23:09.293142Z",
     "shell.execute_reply": "2023-10-27T15:23:21.873523Z"
    },
    "trusted": true,
    "ExecuteTime": {
     "end_time": "2023-11-07T19:21:02.882353898Z",
     "start_time": "2023-11-07T19:21:02.006274585Z"
    }
   },
   "execution_count": 2,
   "outputs": []
  },
  {
   "cell_type": "markdown",
   "source": [
    "# Imports"
   ],
   "metadata": {}
  },
  {
   "cell_type": "code",
   "source": [
    "import os, glob, pathlib\n",
    "import pickle\n",
    "import numpy as np\n",
    "import pandas as pd\n",
    "\n",
    "import matplotlib.pyplot as plt\n",
    "import seaborn as sns\n",
    "sns.set_style('darkgrid')\n",
    "import plotly.express as px\n",
    "\n",
    "import scienceplots\n",
    "plt.style.use(['science','no-latex'])  # not sure how to set up latex in kaggle yet.\n",
    "\n",
    "import warnings\n",
    "warnings.filterwarnings('ignore')"
   ],
   "metadata": {
    "execution": {
     "iopub.status.busy": "2023-10-27T15:23:21.876898Z",
     "iopub.execute_input": "2023-10-27T15:23:21.877191Z",
     "iopub.status.idle": "2023-10-27T15:23:23.556516Z",
     "shell.execute_reply.started": "2023-10-27T15:23:21.877164Z",
     "shell.execute_reply": "2023-10-27T15:23:23.555538Z"
    },
    "trusted": true,
    "ExecuteTime": {
     "end_time": "2023-11-07T19:21:02.925300570Z",
     "start_time": "2023-11-07T19:21:02.874893399Z"
    }
   },
   "execution_count": 3,
   "outputs": []
  },
  {
   "cell_type": "markdown",
   "source": [
    "# Read Data"
   ],
   "metadata": {}
  },
  {
   "cell_type": "code",
   "source": [
    "kaggle_env = False   # TODO: an auto check to see where I am working\n",
    "\n",
    "if kaggle_env == True:\n",
    "    root_dir = '/kaggle/input/playground-series-s3e24'\n",
    "else:\n",
    "    root_dir = '.'\n",
    "\n",
    "train = pd.read_csv(root_dir + '/train.csv')\n",
    "test = pd.read_csv(root_dir + '/test.csv')\n",
    "ss = pd.read_csv(root_dir + '/sample_submission.csv')"
   ],
   "metadata": {
    "execution": {
     "iopub.status.busy": "2023-10-27T15:23:23.557698Z",
     "iopub.execute_input": "2023-10-27T15:23:23.558084Z",
     "iopub.status.idle": "2023-10-27T15:23:24.420411Z",
     "shell.execute_reply.started": "2023-10-27T15:23:23.558060Z",
     "shell.execute_reply": "2023-10-27T15:23:24.419616Z"
    },
    "trusted": true,
    "ExecuteTime": {
     "end_time": "2023-11-07T19:21:03.654205155Z",
     "start_time": "2023-11-07T19:21:03.493985144Z"
    }
   },
   "execution_count": 4,
   "outputs": []
  },
  {
   "cell_type": "code",
   "source": [
    "all_features = [col for col in test.columns if 'id' not in col]\n",
    "int_features = [col for col in test.columns if 'id' not in col and test[col].dtype=='int']\n",
    "float_features = [col for col in test.columns if test[col].dtype=='float']\n",
    "\n",
    "features = all_features\n",
    "features"
   ],
   "metadata": {
    "execution": {
     "iopub.status.busy": "2023-10-27T15:23:24.422648Z",
     "iopub.execute_input": "2023-10-27T15:23:24.423352Z",
     "iopub.status.idle": "2023-10-27T15:23:24.437181Z",
     "shell.execute_reply.started": "2023-10-27T15:23:24.423318Z",
     "shell.execute_reply": "2023-10-27T15:23:24.436219Z"
    },
    "trusted": true,
    "ExecuteTime": {
     "end_time": "2023-11-07T19:21:03.760366315Z",
     "start_time": "2023-11-07T19:21:03.752177464Z"
    }
   },
   "execution_count": 5,
   "outputs": [
    {
     "data": {
      "text/plain": "['age',\n 'height(cm)',\n 'weight(kg)',\n 'waist(cm)',\n 'eyesight(left)',\n 'eyesight(right)',\n 'hearing(left)',\n 'hearing(right)',\n 'systolic',\n 'relaxation',\n 'fasting blood sugar',\n 'Cholesterol',\n 'HDL',\n 'LDL',\n 'hemoglobin',\n 'Urine protein',\n 'serum creatinine',\n 'AST',\n 'ALT',\n 'Gtp',\n 'dental caries']"
     },
     "execution_count": 5,
     "metadata": {},
     "output_type": "execute_result"
    }
   ]
  },
  {
   "cell_type": "markdown",
   "source": [
    "# Feature Engineering"
   ],
   "metadata": {
    "collapsed": false
   }
  },
  {
   "cell_type": "code",
   "execution_count": 6,
   "outputs": [],
   "source": [
    "# train[train['eyesight(left)'] > 9.0] = 0\n",
    "# train[train['eyesight(right)'] > 9.0] = 0\n",
    "# \n",
    "# test[test['eyesight(left)'] > 9.0] = 0\n",
    "# test[test['eyesight(right)'] > 9.0] = 0\n"
   ],
   "metadata": {
    "collapsed": false,
    "ExecuteTime": {
     "end_time": "2023-11-07T19:21:09.460021717Z",
     "start_time": "2023-11-07T19:21:09.434709726Z"
    }
   }
  },
  {
   "cell_type": "code",
   "execution_count": 77,
   "outputs": [
    {
     "data": {
      "text/plain": "2.0"
     },
     "execution_count": 77,
     "metadata": {},
     "output_type": "execute_result"
    }
   ],
   "source": [
    "train['eyesight(right)'].max()"
   ],
   "metadata": {
    "collapsed": false,
    "ExecuteTime": {
     "end_time": "2023-11-04T01:00:47.515215950Z",
     "start_time": "2023-11-04T01:00:47.473994648Z"
    }
   }
  },
  {
   "cell_type": "markdown",
   "source": [
    "# Cross Validation"
   ],
   "metadata": {}
  },
  {
   "cell_type": "code",
   "source": [
    "from sklearn.model_selection import train_test_split, StratifiedKFold\n",
    "\n",
    "folds = 5\n",
    "seed = 12"
   ],
   "metadata": {
    "execution": {
     "iopub.status.busy": "2023-10-27T15:23:24.438231Z",
     "iopub.execute_input": "2023-10-27T15:23:24.438587Z",
     "iopub.status.idle": "2023-10-27T15:23:24.592515Z",
     "shell.execute_reply.started": "2023-10-27T15:23:24.438555Z",
     "shell.execute_reply": "2023-10-27T15:23:24.591511Z"
    },
    "trusted": true,
    "ExecuteTime": {
     "end_time": "2023-11-04T01:00:47.515315439Z",
     "start_time": "2023-11-04T01:00:47.515011640Z"
    }
   },
   "execution_count": 78,
   "outputs": []
  },
  {
   "cell_type": "code",
   "source": [
    "# if continuous, change predict_proba to predict\n",
    "def run_cv_and_predict(train, test, features, model, seed):\n",
    "    \n",
    "    # initialize arrays \n",
    "    fold_scores = []\n",
    "    oof = np.zeros(train.shape[0])\n",
    "    preds = np.zeros((test.shape[0],folds))\n",
    "\n",
    "    # setup folding strategy\n",
    "    skf = StratifiedKFold(n_splits=folds,random_state = seed,shuffle=True)\n",
    "    # Use KFold if target is continuous\n",
    "    #skf = KFold(n_splits=folds,random_state = seed,shuffle=True)\n",
    "\n",
    "    # start cross validation\n",
    "    cur_fold = 1\n",
    "    for trn_idx, val_idx in skf.split(train[features], y):\n",
    "\n",
    "        # split indices into train and validation\n",
    "        x_train = train[features].iloc[trn_idx]\n",
    "        y_train = y.iloc[trn_idx]\n",
    "        x_valid = train[features].iloc[val_idx]\n",
    "        y_valid = y.iloc[val_idx]\n",
    "\n",
    "        # fit model\n",
    "        model.fit(x_train,y_train)\n",
    "\n",
    "        # predict on validation set\n",
    "        fold_preds = model.predict_proba(x_valid)[:,1]\n",
    "        fold_preds = fold_preds.reshape(len(fold_preds)) # sbabwtdt\n",
    "        oof[val_idx] = fold_preds\n",
    "\n",
    "        # Compute scores\n",
    "        fold_score = roc_auc_score(y_valid,fold_preds)  # CHOOSE METRIC HERE\n",
    "        fold_scores.append(fold_score)\n",
    "        #print(f'ROC AUC Score, fold {cur_fold}: {fold_score}')\n",
    "\n",
    "        # predict on test set - store all fold preds (take mode later)\n",
    "        test_preds = model.predict_proba(test[features])[:,1]\n",
    "        test_preds = test_preds.reshape(len(test_preds))  # shouldn't have to do this.\n",
    "        preds[:,cur_fold-1] = test_preds  \n",
    "        cur_fold +=1\n",
    "    \n",
    "    # Print mean fold and oof score \n",
    "    oof_score = roc_auc_score(y,oof)\n",
    "    # oof_score = np.sqrt(mean_squared_error(y,oof))\n",
    "    print(f'ROC AUC score: {np.mean(fold_scores):.5f}, Stdev: {np.std(fold_scores):.5f}, OOF score: {oof_score:.5f}')\n",
    "    # print(f'RMSE score: {np.mean(scores):.5f}, Stdev: {np.std(scores):.5f}, OOF score: {oof_score:.5f}')\n",
    "\n",
    "    return (preds,fold_scores,oof_score,oof)"
   ],
   "metadata": {
    "execution": {
     "iopub.status.busy": "2023-10-27T15:23:24.593772Z",
     "iopub.execute_input": "2023-10-27T15:23:24.594045Z",
     "iopub.status.idle": "2023-10-27T15:23:24.604027Z",
     "shell.execute_reply.started": "2023-10-27T15:23:24.594021Z",
     "shell.execute_reply": "2023-10-27T15:23:24.603099Z"
    },
    "trusted": true,
    "ExecuteTime": {
     "end_time": "2023-11-04T01:00:47.558475739Z",
     "start_time": "2023-11-04T01:00:47.515089714Z"
    }
   },
   "execution_count": 79,
   "outputs": []
  },
  {
   "cell_type": "markdown",
   "source": [
    "# Models"
   ],
   "metadata": {}
  },
  {
   "cell_type": "code",
   "source": [
    "from sklearn.linear_model import LogisticRegression   # try CV too\n",
    "from sklearn.metrics import roc_auc_score,roc_curve"
   ],
   "metadata": {
    "execution": {
     "iopub.status.busy": "2023-10-27T15:23:24.605360Z",
     "iopub.execute_input": "2023-10-27T15:23:24.605639Z",
     "iopub.status.idle": "2023-10-27T15:23:24.698589Z",
     "shell.execute_reply.started": "2023-10-27T15:23:24.605594Z",
     "shell.execute_reply": "2023-10-27T15:23:24.697858Z"
    },
    "trusted": true,
    "ExecuteTime": {
     "end_time": "2023-11-04T01:00:47.558600310Z",
     "start_time": "2023-11-04T01:00:47.555968042Z"
    }
   },
   "execution_count": 80,
   "outputs": []
  },
  {
   "cell_type": "markdown",
   "source": [
    "## Split Data"
   ],
   "metadata": {}
  },
  {
   "cell_type": "code",
   "source": [
    "# start with train-test split\n",
    "y = train['smoking']\n",
    "# x_train, x_valid, y_train, y_valid = train_test_split(train[features], y, train_size=0.8, test_size=0.2,\n",
    "#                                                       random_state=12)\n",
    "\n",
    "x_test = test[features]"
   ],
   "metadata": {
    "execution": {
     "iopub.status.busy": "2023-10-27T15:23:26.224770Z",
     "iopub.execute_input": "2023-10-27T15:23:26.225408Z",
     "iopub.status.idle": "2023-10-27T15:23:26.241645Z",
     "shell.execute_reply.started": "2023-10-27T15:23:26.225374Z",
     "shell.execute_reply": "2023-10-27T15:23:26.240649Z"
    },
    "trusted": true,
    "ExecuteTime": {
     "end_time": "2023-11-04T01:00:47.572224715Z",
     "start_time": "2023-11-04T01:00:47.556043478Z"
    }
   },
   "execution_count": 81,
   "outputs": []
  },
  {
   "cell_type": "markdown",
   "source": [
    "## Baseline Model - Logistic Regression"
   ],
   "metadata": {}
  },
  {
   "cell_type": "code",
   "source": [
    "\n",
    "model_lr = LogisticRegression()#C=10)\n",
    "preds_lr,scores_lr,oof_score_lr,oof_lr = run_cv_and_predict(train,test,features,model_lr,seed)\n",
    "\n",
    "\n",
    "# model.fit(x_train,y_train)\n",
    "# val_preds = model.predict_proba(x_valid)[:,1]  \n",
    "# score = roc_auc_score(y_valid, val_preds)   # make sure true is first\n",
    "# print(f'ROC AUC Score = {score:.5f}')\n",
    "\n",
    "\n",
    "# default lr, no feature engineering, all features, tts = .81622, lb = .81916\n",
    "# int features = .80181, lb = .80703\n",
    "# float features = .76748, lb = .77048\n",
    "# cross validation: .81702, lb = "
   ],
   "metadata": {
    "execution": {
     "iopub.status.busy": "2023-10-27T15:23:28.947139Z",
     "iopub.execute_input": "2023-10-27T15:23:28.948242Z",
     "iopub.status.idle": "2023-10-27T15:23:37.636368Z",
     "shell.execute_reply.started": "2023-10-27T15:23:28.948208Z",
     "shell.execute_reply": "2023-10-27T15:23:37.634889Z"
    },
    "trusted": true,
    "ExecuteTime": {
     "end_time": "2023-11-04T01:00:50.135478913Z",
     "start_time": "2023-11-04T01:00:47.572301219Z"
    }
   },
   "execution_count": 82,
   "outputs": [
    {
     "name": "stdout",
     "output_type": "stream",
     "text": [
      "ROC AUC score: 0.81740, Stdev: 0.00182, OOF score: 0.81739\n"
     ]
    }
   ]
  },
  {
   "cell_type": "markdown",
   "source": [
    "### Plot ROC Curve"
   ],
   "metadata": {}
  },
  {
   "cell_type": "code",
   "source": [
    "def plot_roc_curve(y_actual,y_preds, model_type='Unspecified'):\n",
    "    plt.figure(figsize=(5,3.5))\n",
    "    fpr,tpr,_ = roc_curve(y_actual,y_preds)\n",
    "    plt.plot(fpr,tpr, label=f'AUC = {np.mean(scores_lr):.5}')\n",
    "    plt.legend(loc='lower right')\n",
    "    plt.title(f'ROC AUC Score for {model_type}')\n",
    "    plt.show()\n",
    "    \n",
    "    \n",
    "plot_roc_curve(y, oof_lr, 'Logistic Regression')"
   ],
   "metadata": {
    "execution": {
     "iopub.status.busy": "2023-10-27T15:23:37.638736Z",
     "iopub.execute_input": "2023-10-27T15:23:37.639397Z",
     "iopub.status.idle": "2023-10-27T15:23:38.394739Z",
     "shell.execute_reply.started": "2023-10-27T15:23:37.639354Z",
     "shell.execute_reply": "2023-10-27T15:23:38.393776Z"
    },
    "trusted": true,
    "ExecuteTime": {
     "end_time": "2023-11-04T01:00:50.334258006Z",
     "start_time": "2023-11-04T01:00:50.127879464Z"
    }
   },
   "execution_count": 83,
   "outputs": [
    {
     "data": {
      "text/plain": "<Figure size 500x350 with 1 Axes>",
      "image/png": "[encoded data removed]"
     },
     "metadata": {},
     "output_type": "display_data"
    }
   ]
  },
  {
   "cell_type": "markdown",
   "source": [
    "## Random Forest\n",
    "* Slowest = about 4 min run time"
   ],
   "metadata": {}
  },
  {
   "cell_type": "code",
   "source": [
    "# %%time\n",
    "# from sklearn.ensemble import RandomForestClassifier\n",
    "\n",
    "# model_rf = RandomForestClassifier()\n",
    "\n",
    "# preds_rf,scores_rf,oof_score_rf,oof_rf = run_cv_and_predict(train,test,features,model_rf,seed)\n",
    "\n",
    "# RF default ROC AUC score: 0.85248, Stdev: 0.00173, OOF score: 0.85247, lb = \n",
    "# 4 min run time"
   ],
   "metadata": {
    "execution": {
     "iopub.status.busy": "2023-10-27T15:23:38.395918Z",
     "iopub.execute_input": "2023-10-27T15:23:38.396199Z",
     "iopub.status.idle": "2023-10-27T15:23:38.400695Z",
     "shell.execute_reply.started": "2023-10-27T15:23:38.396175Z",
     "shell.execute_reply": "2023-10-27T15:23:38.399644Z"
    },
    "trusted": true,
    "ExecuteTime": {
     "end_time": "2023-11-04T01:00:50.334405180Z",
     "start_time": "2023-11-04T01:00:50.332062767Z"
    }
   },
   "execution_count": 84,
   "outputs": []
  },
  {
   "cell_type": "markdown",
   "source": [
    "## Catboost\n",
    "* About 2x speed of RF with current config, 2 min run time"
   ],
   "metadata": {}
  },
  {
   "cell_type": "markdown",
   "source": [
    "## Manual Tuning"
   ],
   "metadata": {
    "collapsed": false
   }
  },
  {
   "cell_type": "code",
   "source": [
    "%%time\n",
    "from catboost import CatBoostClassifier\n",
    "\n",
    "# Round 2: 1100-1500, 100 inc, learning rate: .15,.2,.25,.5, max depth: 7,9,11\n",
    "# Gradient optuna results: 1528, .113, 5,\n",
    "\n",
    "results = []\n",
    "\n",
    "for it in [1200,1400,1600,1800]:\n",
    "    for lr in [.07,.09,.1,.125,.15,.2]:\n",
    "        for d in [4,5,7,9,11]:\n",
    "            model_cat = CatBoostClassifier(verbose=0,n_estimators=it,learning_rate=lr,max_depth=d,task_type='GPU')\n",
    "            preds_cat, scores_cat, oof_score_cat, oof_cat = run_cv_and_predict(train,test,features,model_cat,seed)\n",
    "            print(f'est: {it}, lr: {lr}, depth: {d}, cv score: {np.mean(scores_cat)}')\n",
    "        \n",
    "            results.append([it,lr,d,np.mean(scores_cat)])\n",
    "            \n",
    "            \n",
    "# try random ranges instead\n",
    "\n",
    "\n",
    "# default ROC AUC score: 0.86531, Stdev: 0.00177, OOF score: 0.86529, lb = \n",
    "# 2 min run time\n",
    "# est: 1300, lr: 0.2, depth: 11, cv score: 0.8503321291349358\n",
    "# ROC AUC score: 0.86520, Stdev: 0.00183, OOF score: 0.86518"
   ],
   "metadata": {
    "execution": {
     "iopub.status.busy": "2023-10-27T15:25:58.243584Z",
     "iopub.execute_input": "2023-10-27T15:25:58.244536Z",
     "iopub.status.idle": "2023-10-27T15:25:58.613105Z",
     "shell.execute_reply.started": "2023-10-27T15:25:58.244501Z",
     "shell.execute_reply": "2023-10-27T15:25:58.612194Z"
    },
    "trusted": true,
    "ExecuteTime": {
     "end_time": "2023-11-04T01:00:50.372909867Z",
     "start_time": "2023-11-04T01:00:50.332144641Z"
    }
   },
   "execution_count": 85,
   "outputs": [
    {
     "ename": "CatBoostError",
     "evalue": "/src/catboost/catboost/cuda/cuda_lib/cuda_manager.cpp:201: Condition violated: `State == nullptr'",
     "output_type": "error",
     "traceback": [
      "\u001B[0;31m---------------------------------------------------------------------------\u001B[0m",
      "\u001B[0;31mCatBoostError\u001B[0m                             Traceback (most recent call last)",
      "File \u001B[0;32m<timed exec>:12\u001B[0m\n",
      "Cell \u001B[0;32mIn[79], line 25\u001B[0m, in \u001B[0;36mrun_cv_and_predict\u001B[0;34m(train, test, features, model, seed)\u001B[0m\n\u001B[1;32m     22\u001B[0m y_valid \u001B[38;5;241m=\u001B[39m y\u001B[38;5;241m.\u001B[39miloc[val_idx]\n\u001B[1;32m     24\u001B[0m \u001B[38;5;66;03m# fit model\u001B[39;00m\n\u001B[0;32m---> 25\u001B[0m \u001B[43mmodel\u001B[49m\u001B[38;5;241;43m.\u001B[39;49m\u001B[43mfit\u001B[49m\u001B[43m(\u001B[49m\u001B[43mx_train\u001B[49m\u001B[43m,\u001B[49m\u001B[43my_train\u001B[49m\u001B[43m)\u001B[49m\n\u001B[1;32m     27\u001B[0m \u001B[38;5;66;03m# predict on validation set\u001B[39;00m\n\u001B[1;32m     28\u001B[0m fold_preds \u001B[38;5;241m=\u001B[39m model\u001B[38;5;241m.\u001B[39mpredict_proba(x_valid)[:,\u001B[38;5;241m1\u001B[39m]\n",
      "File \u001B[0;32m~/mambaforge/envs/dataspell/lib/python3.8/site-packages/catboost/core.py:5100\u001B[0m, in \u001B[0;36mCatBoostClassifier.fit\u001B[0;34m(self, X, y, cat_features, text_features, embedding_features, sample_weight, baseline, use_best_model, eval_set, verbose, logging_level, plot, plot_file, column_description, verbose_eval, metric_period, silent, early_stopping_rounds, save_snapshot, snapshot_file, snapshot_interval, init_model, callbacks, log_cout, log_cerr)\u001B[0m\n\u001B[1;32m   5097\u001B[0m \u001B[38;5;28;01mif\u001B[39;00m \u001B[38;5;124m'\u001B[39m\u001B[38;5;124mloss_function\u001B[39m\u001B[38;5;124m'\u001B[39m \u001B[38;5;129;01min\u001B[39;00m params:\n\u001B[1;32m   5098\u001B[0m     CatBoostClassifier\u001B[38;5;241m.\u001B[39m_check_is_compatible_loss(params[\u001B[38;5;124m'\u001B[39m\u001B[38;5;124mloss_function\u001B[39m\u001B[38;5;124m'\u001B[39m])\n\u001B[0;32m-> 5100\u001B[0m \u001B[38;5;28;43mself\u001B[39;49m\u001B[38;5;241;43m.\u001B[39;49m\u001B[43m_fit\u001B[49m\u001B[43m(\u001B[49m\u001B[43mX\u001B[49m\u001B[43m,\u001B[49m\u001B[43m \u001B[49m\u001B[43my\u001B[49m\u001B[43m,\u001B[49m\u001B[43m \u001B[49m\u001B[43mcat_features\u001B[49m\u001B[43m,\u001B[49m\u001B[43m \u001B[49m\u001B[43mtext_features\u001B[49m\u001B[43m,\u001B[49m\u001B[43m \u001B[49m\u001B[43membedding_features\u001B[49m\u001B[43m,\u001B[49m\u001B[43m \u001B[49m\u001B[38;5;28;43;01mNone\u001B[39;49;00m\u001B[43m,\u001B[49m\u001B[43m \u001B[49m\u001B[43msample_weight\u001B[49m\u001B[43m,\u001B[49m\u001B[43m \u001B[49m\u001B[38;5;28;43;01mNone\u001B[39;49;00m\u001B[43m,\u001B[49m\u001B[43m \u001B[49m\u001B[38;5;28;43;01mNone\u001B[39;49;00m\u001B[43m,\u001B[49m\u001B[43m \u001B[49m\u001B[38;5;28;43;01mNone\u001B[39;49;00m\u001B[43m,\u001B[49m\u001B[43m \u001B[49m\u001B[38;5;28;43;01mNone\u001B[39;49;00m\u001B[43m,\u001B[49m\u001B[43m \u001B[49m\u001B[43mbaseline\u001B[49m\u001B[43m,\u001B[49m\u001B[43m \u001B[49m\u001B[43muse_best_model\u001B[49m\u001B[43m,\u001B[49m\n\u001B[1;32m   5101\u001B[0m \u001B[43m          \u001B[49m\u001B[43meval_set\u001B[49m\u001B[43m,\u001B[49m\u001B[43m \u001B[49m\u001B[43mverbose\u001B[49m\u001B[43m,\u001B[49m\u001B[43m \u001B[49m\u001B[43mlogging_level\u001B[49m\u001B[43m,\u001B[49m\u001B[43m \u001B[49m\u001B[43mplot\u001B[49m\u001B[43m,\u001B[49m\u001B[43m \u001B[49m\u001B[43mplot_file\u001B[49m\u001B[43m,\u001B[49m\u001B[43m \u001B[49m\u001B[43mcolumn_description\u001B[49m\u001B[43m,\u001B[49m\u001B[43m \u001B[49m\u001B[43mverbose_eval\u001B[49m\u001B[43m,\u001B[49m\u001B[43m \u001B[49m\u001B[43mmetric_period\u001B[49m\u001B[43m,\u001B[49m\n\u001B[1;32m   5102\u001B[0m \u001B[43m          \u001B[49m\u001B[43msilent\u001B[49m\u001B[43m,\u001B[49m\u001B[43m \u001B[49m\u001B[43mearly_stopping_rounds\u001B[49m\u001B[43m,\u001B[49m\u001B[43m \u001B[49m\u001B[43msave_snapshot\u001B[49m\u001B[43m,\u001B[49m\u001B[43m \u001B[49m\u001B[43msnapshot_file\u001B[49m\u001B[43m,\u001B[49m\u001B[43m \u001B[49m\u001B[43msnapshot_interval\u001B[49m\u001B[43m,\u001B[49m\u001B[43m \u001B[49m\u001B[43minit_model\u001B[49m\u001B[43m,\u001B[49m\u001B[43m \u001B[49m\u001B[43mcallbacks\u001B[49m\u001B[43m,\u001B[49m\u001B[43m \u001B[49m\u001B[43mlog_cout\u001B[49m\u001B[43m,\u001B[49m\u001B[43m \u001B[49m\u001B[43mlog_cerr\u001B[49m\u001B[43m)\u001B[49m\n\u001B[1;32m   5103\u001B[0m \u001B[38;5;28;01mreturn\u001B[39;00m \u001B[38;5;28mself\u001B[39m\n",
      "File \u001B[0;32m~/mambaforge/envs/dataspell/lib/python3.8/site-packages/catboost/core.py:2319\u001B[0m, in \u001B[0;36mCatBoost._fit\u001B[0;34m(self, X, y, cat_features, text_features, embedding_features, pairs, sample_weight, group_id, group_weight, subgroup_id, pairs_weight, baseline, use_best_model, eval_set, verbose, logging_level, plot, plot_file, column_description, verbose_eval, metric_period, silent, early_stopping_rounds, save_snapshot, snapshot_file, snapshot_interval, init_model, callbacks, log_cout, log_cerr)\u001B[0m\n\u001B[1;32m   2315\u001B[0m allow_clear_pool \u001B[38;5;241m=\u001B[39m train_params[\u001B[38;5;124m\"\u001B[39m\u001B[38;5;124mallow_clear_pool\u001B[39m\u001B[38;5;124m\"\u001B[39m]\n\u001B[1;32m   2317\u001B[0m \u001B[38;5;28;01mwith\u001B[39;00m log_fixup(log_cout, log_cerr), \\\n\u001B[1;32m   2318\u001B[0m     plot_wrapper(plot, plot_file, \u001B[38;5;124m'\u001B[39m\u001B[38;5;124mTraining plots\u001B[39m\u001B[38;5;124m'\u001B[39m, [_get_train_dir(\u001B[38;5;28mself\u001B[39m\u001B[38;5;241m.\u001B[39mget_params())]):\n\u001B[0;32m-> 2319\u001B[0m     \u001B[38;5;28;43mself\u001B[39;49m\u001B[38;5;241;43m.\u001B[39;49m\u001B[43m_train\u001B[49m\u001B[43m(\u001B[49m\n\u001B[1;32m   2320\u001B[0m \u001B[43m        \u001B[49m\u001B[43mtrain_pool\u001B[49m\u001B[43m,\u001B[49m\n\u001B[1;32m   2321\u001B[0m \u001B[43m        \u001B[49m\u001B[43mtrain_params\u001B[49m\u001B[43m[\u001B[49m\u001B[38;5;124;43m\"\u001B[39;49m\u001B[38;5;124;43meval_sets\u001B[39;49m\u001B[38;5;124;43m\"\u001B[39;49m\u001B[43m]\u001B[49m\u001B[43m,\u001B[49m\n\u001B[1;32m   2322\u001B[0m \u001B[43m        \u001B[49m\u001B[43mparams\u001B[49m\u001B[43m,\u001B[49m\n\u001B[1;32m   2323\u001B[0m \u001B[43m        \u001B[49m\u001B[43mallow_clear_pool\u001B[49m\u001B[43m,\u001B[49m\n\u001B[1;32m   2324\u001B[0m \u001B[43m        \u001B[49m\u001B[43mtrain_params\u001B[49m\u001B[43m[\u001B[49m\u001B[38;5;124;43m\"\u001B[39;49m\u001B[38;5;124;43minit_model\u001B[39;49m\u001B[38;5;124;43m\"\u001B[39;49m\u001B[43m]\u001B[49m\n\u001B[1;32m   2325\u001B[0m \u001B[43m    \u001B[49m\u001B[43m)\u001B[49m\n\u001B[1;32m   2327\u001B[0m \u001B[38;5;66;03m# Have property feature_importance possibly set\u001B[39;00m\n\u001B[1;32m   2328\u001B[0m loss \u001B[38;5;241m=\u001B[39m \u001B[38;5;28mself\u001B[39m\u001B[38;5;241m.\u001B[39m_object\u001B[38;5;241m.\u001B[39m_get_loss_function_name()\n",
      "File \u001B[0;32m~/mambaforge/envs/dataspell/lib/python3.8/site-packages/catboost/core.py:1723\u001B[0m, in \u001B[0;36m_CatBoostBase._train\u001B[0;34m(self, train_pool, test_pool, params, allow_clear_pool, init_model)\u001B[0m\n\u001B[1;32m   1722\u001B[0m \u001B[38;5;28;01mdef\u001B[39;00m \u001B[38;5;21m_train\u001B[39m(\u001B[38;5;28mself\u001B[39m, train_pool, test_pool, params, allow_clear_pool, init_model):\n\u001B[0;32m-> 1723\u001B[0m     \u001B[38;5;28;43mself\u001B[39;49m\u001B[38;5;241;43m.\u001B[39;49m\u001B[43m_object\u001B[49m\u001B[38;5;241;43m.\u001B[39;49m\u001B[43m_train\u001B[49m\u001B[43m(\u001B[49m\u001B[43mtrain_pool\u001B[49m\u001B[43m,\u001B[49m\u001B[43m \u001B[49m\u001B[43mtest_pool\u001B[49m\u001B[43m,\u001B[49m\u001B[43m \u001B[49m\u001B[43mparams\u001B[49m\u001B[43m,\u001B[49m\u001B[43m \u001B[49m\u001B[43mallow_clear_pool\u001B[49m\u001B[43m,\u001B[49m\u001B[43m \u001B[49m\u001B[43minit_model\u001B[49m\u001B[38;5;241;43m.\u001B[39;49m\u001B[43m_object\u001B[49m\u001B[43m \u001B[49m\u001B[38;5;28;43;01mif\u001B[39;49;00m\u001B[43m \u001B[49m\u001B[43minit_model\u001B[49m\u001B[43m \u001B[49m\u001B[38;5;28;43;01melse\u001B[39;49;00m\u001B[43m \u001B[49m\u001B[38;5;28;43;01mNone\u001B[39;49;00m\u001B[43m)\u001B[49m\n\u001B[1;32m   1724\u001B[0m     \u001B[38;5;28mself\u001B[39m\u001B[38;5;241m.\u001B[39m_set_trained_model_attributes()\n",
      "File \u001B[0;32m_catboost.pyx:4645\u001B[0m, in \u001B[0;36m_catboost._CatBoost._train\u001B[0;34m()\u001B[0m\n",
      "File \u001B[0;32m_catboost.pyx:4694\u001B[0m, in \u001B[0;36m_catboost._CatBoost._train\u001B[0;34m()\u001B[0m\n",
      "\u001B[0;31mCatBoostError\u001B[0m: /src/catboost/catboost/cuda/cuda_lib/cuda_manager.cpp:201: Condition violated: `State == nullptr'"
     ]
    }
   ]
  },
  {
   "cell_type": "code",
   "source": [
    "# results_df = pd.DataFrame(results,columns=['estimators','learning_rate','max_depth','cv_score'])\n",
    "# results_df.head()"
   ],
   "metadata": {
    "execution": {
     "iopub.status.busy": "2023-10-26T21:51:58.452486Z",
     "iopub.execute_input": "2023-10-26T21:51:58.452770Z",
     "iopub.status.idle": "2023-10-26T21:51:58.466062Z",
     "shell.execute_reply.started": "2023-10-26T21:51:58.452745Z",
     "shell.execute_reply": "2023-10-26T21:51:58.465076Z"
    },
    "trusted": true,
    "ExecuteTime": {
     "end_time": "2023-11-04T01:00:50.428069852Z",
     "start_time": "2023-11-04T01:00:50.373336602Z"
    }
   },
   "execution_count": 86,
   "outputs": []
  },
  {
   "cell_type": "code",
   "source": [
    "# TODO: write function to save data automatically\n",
    "# results_df.to_csv('20231026_cat_tuning.csv')"
   ],
   "metadata": {
    "execution": {
     "iopub.status.busy": "2023-10-26T21:52:15.563876Z",
     "iopub.execute_input": "2023-10-26T21:52:15.564207Z",
     "iopub.status.idle": "2023-10-26T21:52:15.571346Z",
     "shell.execute_reply.started": "2023-10-26T21:52:15.564182Z",
     "shell.execute_reply": "2023-10-26T21:52:15.570224Z"
    },
    "trusted": true,
    "ExecuteTime": {
     "end_time": "2023-11-04T01:00:50.429158457Z",
     "start_time": "2023-11-04T01:00:50.413970017Z"
    }
   },
   "execution_count": 87,
   "outputs": []
  },
  {
   "cell_type": "code",
   "source": [
    "# max_cv = results_df.cv_score.max()\n",
    "# results_df[results_df.cv_score == max_cv]"
   ],
   "metadata": {
    "execution": {
     "iopub.status.busy": "2023-10-26T22:03:27.701460Z",
     "iopub.execute_input": "2023-10-26T22:03:27.701857Z",
     "iopub.status.idle": "2023-10-26T22:03:27.709035Z",
     "shell.execute_reply.started": "2023-10-26T22:03:27.701823Z",
     "shell.execute_reply": "2023-10-26T22:03:27.708019Z"
    },
    "trusted": true,
    "ExecuteTime": {
     "end_time": "2023-11-04T01:00:50.458798330Z",
     "start_time": "2023-11-04T01:00:50.414045925Z"
    }
   },
   "execution_count": 88,
   "outputs": []
  },
  {
   "cell_type": "code",
   "source": [
    "# import plotly.express as px\n",
    "\n",
    "# fig = px.scatter_3d(results_df, x='estimators', y='max_depth', z='learning_rate',color='cv_score')  # scatter of 3 cols of df\n",
    "# fig.update_traces(marker={'size': 3})\n",
    "# fig.show(renderer='notebook')"
   ],
   "metadata": {
    "execution": {
     "iopub.status.busy": "2023-10-27T15:26:37.555248Z",
     "iopub.execute_input": "2023-10-27T15:26:37.555635Z",
     "iopub.status.idle": "2023-10-27T15:26:37.559759Z",
     "shell.execute_reply.started": "2023-10-27T15:26:37.555609Z",
     "shell.execute_reply": "2023-10-27T15:26:37.558860Z"
    },
    "trusted": true,
    "ExecuteTime": {
     "end_time": "2023-11-04T01:00:50.458956825Z",
     "start_time": "2023-11-04T01:00:50.455990111Z"
    }
   },
   "execution_count": 89,
   "outputs": []
  },
  {
   "cell_type": "markdown",
   "source": [
    "I like that I can rotate this grid around and look at where things seem to be heading.  From this, my next set will be from \n",
    "* estimators: 1100-1500, 100 inc, learning rate: .15,.2,.25,.5, max depth: 7,9,11"
   ],
   "metadata": {}
  },
  {
   "cell_type": "markdown",
   "source": [
    " ## Cat tuning with Optuna"
   ],
   "metadata": {}
  },
  {
   "cell_type": "code",
   "source": [
    "import optuna\n",
    "from optuna.samplers import TPESampler"
   ],
   "metadata": {
    "execution": {
     "iopub.status.busy": "2023-10-27T15:26:41.355737Z",
     "iopub.execute_input": "2023-10-27T15:26:41.356467Z",
     "iopub.status.idle": "2023-10-27T15:26:42.336023Z",
     "shell.execute_reply.started": "2023-10-27T15:26:41.356432Z",
     "shell.execute_reply": "2023-10-27T15:26:42.335129Z"
    },
    "trusted": true,
    "ExecuteTime": {
     "end_time": "2023-11-04T01:00:50.459017362Z",
     "start_time": "2023-11-04T01:00:50.456103958Z"
    }
   },
   "execution_count": 90,
   "outputs": []
  },
  {
   "cell_type": "code",
   "source": [
    "def objective(trial):\n",
    "    \n",
    "    scores = []\n",
    "    \n",
    "    model = CatBoostClassifier(\n",
    "        iterations=trial.suggest_int(\"iterations\", 50, 2000),\n",
    "        learning_rate=trial.suggest_float(\"learning_rate\", 1e-3, 3e-1, log=True),\n",
    "        depth=trial.suggest_int(\"depth\", 4, 10),\n",
    "        l2_leaf_reg=trial.suggest_float(\"l2_leaf_reg\", 1e-8, 100.0, log=True),\n",
    "        bootstrap_type=trial.suggest_categorical(\"bootstrap_type\", [\"Bayesian\"]),\n",
    "        random_strength=trial.suggest_float(\"random_strength\", 1e-8, 10.0, log=True),\n",
    "        bagging_temperature=trial.suggest_float(\"bagging_temperature\", 0.0, 10.0),\n",
    "        od_type=trial.suggest_categorical(\"od_type\", [\"IncToDec\", \"Iter\"]),\n",
    "        od_wait=trial.suggest_int(\"od_wait\", 10, 50),\n",
    "        random_seed=12,\n",
    "        verbose=False\n",
    "    )\n",
    "    \n",
    "    # do cross validation - 5 folds\n",
    "    skf = StratifiedKFold(n_splits=folds,random_state = seed,shuffle=True)\n",
    "\n",
    "    # start cross validation\n",
    "    cur_fold = 1\n",
    "    for trn_idx, val_idx in skf.split(train[features], y):\n",
    "\n",
    "        # split indicies into train and validation\n",
    "        x_train = train[features].iloc[trn_idx]\n",
    "        y_train = y.iloc[trn_idx]\n",
    "        x_valid = train[features].iloc[val_idx]\n",
    "        y_valid = y.iloc[val_idx]\n",
    "\n",
    "        # fit model\n",
    "        model.fit(x_train,y_train)\n",
    "\n",
    "        # predict on validation set\n",
    "        fold_preds = model.predict_proba(x_valid)[:,1]\n",
    "        fold_score = roc_auc_score(y_valid,fold_preds) \n",
    "        scores.append(fold_score)\n",
    "        #print(f'ROC AUC Score, fold {cur_fold}: {fold_score}')\n",
    "\n",
    "        # predict on test set - store all fold preds (take mode later)\n",
    "#         test_preds = model.predict_proba(test[features])[:,1]\n",
    "#         test_preds = test_preds.reshape(len(test_preds))  # shouldn't have to do this.\n",
    "#         preds[:,cur_fold-1] = test_preds \n",
    "        \n",
    "        cur_fold +=1\n",
    "    \n",
    "\n",
    "    return np.mean(scores)\n"
   ],
   "metadata": {
    "execution": {
     "iopub.status.busy": "2023-10-27T15:29:44.702477Z",
     "iopub.execute_input": "2023-10-27T15:29:44.703298Z",
     "iopub.status.idle": "2023-10-27T15:29:44.713329Z",
     "shell.execute_reply.started": "2023-10-27T15:29:44.703244Z",
     "shell.execute_reply": "2023-10-27T15:29:44.712346Z"
    },
    "trusted": true,
    "ExecuteTime": {
     "end_time": "2023-11-04T01:00:50.506999579Z",
     "start_time": "2023-11-04T01:00:50.498183081Z"
    }
   },
   "execution_count": 91,
   "outputs": []
  },
  {
   "cell_type": "code",
   "source": [
    "# create the study\n",
    "optuna.logging.set_verbosity(optuna.logging.WARNING)\n",
    "\n",
    "sampler = TPESampler(seed=12)\n",
    "study = optuna.create_study(study_name=\"catboost\", direction=\"maximize\", sampler=sampler)\n",
    "study.optimize(objective, n_trials=100)"
   ],
   "metadata": {
    "execution": {
     "iopub.status.busy": "2023-10-27T15:29:46.401092Z",
     "iopub.execute_input": "2023-10-27T15:29:46.401983Z",
     "iopub.status.idle": "2023-10-27T15:44:55.473369Z",
     "shell.execute_reply.started": "2023-10-27T15:29:46.401948Z",
     "shell.execute_reply": "2023-10-27T15:44:55.472523Z"
    },
    "trusted": true,
    "is_executing": true,
    "ExecuteTime": {
     "start_time": "2023-11-04T01:00:50.498582019Z"
    }
   },
   "execution_count": null,
   "outputs": []
  },
  {
   "cell_type": "code",
   "source": [
    "# evaluate the trial\n",
    "print(\"Number of finished trials: \", len(study.trials))\n",
    "print(\"Best trial:\")\n",
    "trial = study.best_trial\n",
    "print(\"  Value: \", trial.value)\n",
    "print(\"  Params: \")\n",
    "for key, value in trial.params.items():\n",
    "    print(\"    {}: {}\".format(key, value))\n",
    "\n",
    "# ver1 best: cv = .86574\n",
    "# make eyesight 9.9 be 0.0, cv = \n"
   ],
   "metadata": {
    "execution": {
     "iopub.status.busy": "2023-10-27T15:44:55.474929Z",
     "iopub.execute_input": "2023-10-27T15:44:55.475218Z",
     "iopub.status.idle": "2023-10-27T15:44:55.484187Z",
     "shell.execute_reply.started": "2023-10-27T15:44:55.475193Z",
     "shell.execute_reply": "2023-10-27T15:44:55.483310Z"
    },
    "trusted": true,
    "is_executing": true
   },
   "execution_count": null,
   "outputs": []
  },
  {
   "cell_type": "code",
   "source": [
    "# create model with best hyperparams\n",
    "best_cat_model = CatBoostClassifier(**trial.params, verbose=False)\n",
    "best_cat_model.fit(train[features], y)\n",
    "cat_preds = best_cat_model.predict_proba(x_test)[:,1]\n",
    "\n",
    "# best of 10 trials = .862"
   ],
   "metadata": {
    "execution": {
     "iopub.status.busy": "2023-10-27T16:13:33.674554Z",
     "iopub.execute_input": "2023-10-27T16:13:33.675441Z",
     "iopub.status.idle": "2023-10-27T16:13:48.521997Z",
     "shell.execute_reply.started": "2023-10-27T16:13:33.675407Z",
     "shell.execute_reply": "2023-10-27T16:13:48.520895Z"
    },
    "trusted": true,
    "is_executing": true
   },
   "execution_count": null,
   "outputs": []
  },
  {
   "cell_type": "code",
   "execution_count": null,
   "outputs": [],
   "source": [
    "# can also save the model (instead of importing parameters\n",
    "pickle.dump(best_cat_model, open(\"catboost_optuna2.pkl\", \"wb\"))\n"
   ],
   "metadata": {
    "collapsed": false,
    "is_executing": true
   }
  },
  {
   "cell_type": "markdown",
   "source": [
    "## LightGBM\n",
    "* super fast ~= 40 sec"
   ],
   "metadata": {}
  },
  {
   "cell_type": "code",
   "source": [
    "%%time\n",
    "from lightgbm import LGBMClassifier\n",
    "model_lgbm = LGBMClassifier()\n",
    "\n",
    "preds_lgbm, scores_lgbm, oof_score_lgbm, oof_lgbm = run_cv_and_predict(train,test,features,model_lgbm,seed)\n",
    "\n",
    "# default: ROC AUC score: 0.86130, Stdev: 0.00173, OOF score: 0.86128, lb = "
   ],
   "metadata": {
    "execution": {
     "iopub.status.busy": "2023-10-26T19:54:04.648833Z",
     "iopub.execute_input": "2023-10-26T19:54:04.649191Z",
     "iopub.status.idle": "2023-10-26T19:54:19.338667Z",
     "shell.execute_reply.started": "2023-10-26T19:54:04.649161Z",
     "shell.execute_reply": "2023-10-26T19:54:19.337590Z"
    },
    "trusted": true,
    "is_executing": true
   },
   "execution_count": null,
   "outputs": []
  },
  {
   "cell_type": "markdown",
   "source": [
    "# Submission\n",
    "* Check submission CV vs LB"
   ],
   "metadata": {}
  },
  {
   "cell_type": "code",
   "source": [
    "ss.smoking = cat_preds\n",
    "ss.to_csv('submission.csv',index=False)\n",
    "ss.head(3)"
   ],
   "metadata": {
    "execution": {
     "iopub.status.busy": "2023-10-27T16:14:23.200173Z",
     "iopub.execute_input": "2023-10-27T16:14:23.200540Z",
     "iopub.status.idle": "2023-10-27T16:14:23.591468Z",
     "shell.execute_reply.started": "2023-10-27T16:14:23.200513Z",
     "shell.execute_reply": "2023-10-27T16:14:23.590449Z"
    },
    "trusted": true,
    "is_executing": true
   },
   "execution_count": null,
   "outputs": []
  },
  {
   "cell_type": "code",
   "source": [
    "plt.figure(figsize=(5,3.5))\n",
    "ss.smoking.plot(kind='hist',bins=50)\n",
    "plt.title('Test Predictions');"
   ],
   "metadata": {
    "execution": {
     "iopub.status.busy": "2023-10-27T16:14:24.718960Z",
     "iopub.execute_input": "2023-10-27T16:14:24.719648Z",
     "iopub.status.idle": "2023-10-27T16:14:25.499580Z",
     "shell.execute_reply.started": "2023-10-27T16:14:24.719614Z",
     "shell.execute_reply": "2023-10-27T16:14:25.498707Z"
    },
    "trusted": true,
    "is_executing": true
   },
   "execution_count": null,
   "outputs": []
  }
 ]
}
