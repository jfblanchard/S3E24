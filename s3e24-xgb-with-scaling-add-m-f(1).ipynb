{
 "cells": [
  {
   "cell_type": "markdown",
   "metadata": {
    "_cell_guid": "b1076dfc-b9ad-4769-8c92-a6c4dae69d19",
    "_uuid": "8f2839f25d086af736a60e9eeb907d3b93b6e0e5"
   },
   "source": [
    "# S3E24 Notebook - Column datatypes and SMOTE\n",
    "* version this: add the gender prediction model.\n",
    "* Try SMOTE\n",
    "    * CV Scores go up to .89-.9, why?"
   ]
  },
  {
   "cell_type": "markdown",
   "metadata": {},
   "source": [
    "# Installs"
   ]
  },
  {
   "cell_type": "code",
   "execution_count": 60,
   "metadata": {
    "tags": [],
    "ExecuteTime": {
     "end_time": "2023-11-09T22:06:19.721318429Z",
     "start_time": "2023-11-09T22:06:19.481142852Z"
    }
   },
   "outputs": [],
   "source": [
    "#!pip install -q scienceplots\n",
    "#!pip install -q catboost\n",
    "#!pip install optuna"
   ]
  },
  {
   "cell_type": "markdown",
   "metadata": {},
   "source": [
    "# Imports"
   ]
  },
  {
   "cell_type": "code",
   "execution_count": 61,
   "metadata": {
    "tags": [],
    "ExecuteTime": {
     "end_time": "2023-11-09T22:06:19.877808210Z",
     "start_time": "2023-11-09T22:06:19.585423980Z"
    }
   },
   "outputs": [],
   "source": [
    "import os, glob, pathlib\n",
    "import pickle\n",
    "import joblib\n",
    "\n",
    "import numpy as np\n",
    "import pandas as pd\n",
    "pd.set_option('display.max_columns',50)\n",
    "\n",
    "import matplotlib.pyplot as plt\n",
    "import seaborn as sns\n",
    "sns.set_style('darkgrid')\n",
    "#import plotly.express as px\n",
    "\n",
    "import scienceplots\n",
    "plt.style.use(['science','no-latex'])  # not sure how to set up latex in kaggle yet.\n",
    "\n",
    "import warnings\n",
    "warnings.filterwarnings('ignore')\n",
    "\n",
    "import optuna\n",
    "from optuna.samplers import TPESampler"
   ]
  },
  {
   "cell_type": "markdown",
   "metadata": {},
   "source": [
    "# Read Data"
   ]
  },
  {
   "cell_type": "code",
   "execution_count": 62,
   "metadata": {
    "tags": [],
    "ExecuteTime": {
     "end_time": "2023-11-09T22:06:20.008079740Z",
     "start_time": "2023-11-09T22:06:19.881582757Z"
    }
   },
   "outputs": [],
   "source": [
    "psg = True\n",
    "\n",
    "if psg:\n",
    "    root_dir = '.'\n",
    "else:\n",
    "    root_dir = '/kaggle/input/playground-series-s3e24'\n",
    "    \n",
    "train = pd.read_csv(root_dir + '/train.csv')\n",
    "test = pd.read_csv(root_dir + '/test.csv')\n",
    "ss = pd.read_csv(root_dir + '/sample_submission.csv')"
   ]
  },
  {
   "cell_type": "code",
   "execution_count": 63,
   "metadata": {
    "tags": [],
    "ExecuteTime": {
     "end_time": "2023-11-09T22:06:20.043368184Z",
     "start_time": "2023-11-09T22:06:20.000231454Z"
    }
   },
   "outputs": [
    {
     "data": {
      "text/plain": "['age',\n 'height(cm)',\n 'weight(kg)',\n 'waist(cm)',\n 'eyesight(left)',\n 'eyesight(right)',\n 'hearing(left)',\n 'hearing(right)',\n 'systolic',\n 'relaxation',\n 'fasting blood sugar',\n 'Cholesterol',\n 'triglyceride',\n 'HDL',\n 'LDL',\n 'hemoglobin',\n 'Urine protein',\n 'serum creatinine',\n 'AST',\n 'ALT',\n 'Gtp',\n 'dental caries']"
     },
     "execution_count": 63,
     "metadata": {},
     "output_type": "execute_result"
    }
   ],
   "source": [
    "all_features = [col for col in test.columns if col !='id']\n",
    "int_features = [col for col in test.columns if 'id' not in col and test[col].dtype=='int']\n",
    "float_features = [col for col in test.columns if test[col].dtype=='float']\n",
    "\n",
    "features = all_features\n",
    "features"
   ]
  },
  {
   "cell_type": "markdown",
   "metadata": {},
   "source": [
    "## Feature Engineering"
   ]
  },
  {
   "cell_type": "markdown",
   "metadata": {},
   "source": [
    "### Add M/F predictions"
   ]
  },
  {
   "cell_type": "code",
   "execution_count": 64,
   "metadata": {
    "tags": [],
    "ExecuteTime": {
     "end_time": "2023-11-09T22:06:20.133113934Z",
     "start_time": "2023-11-09T22:06:20.007759936Z"
    }
   },
   "outputs": [],
   "source": [
    "#model_gndr = joblib.load('/kaggle/input/s3e24-gender-prediction-model/rf_gender_prediction.joblib')\n",
    "model_gndr = joblib.load(root_dir + '/xgb_gndr_model.joblib')\n",
    "\n",
    "train_gndr = model_gndr.predict_proba(train[features])[:,1]\n",
    "test_gndr = model_gndr.predict_proba(test[features])[:,1]"
   ]
  },
  {
   "cell_type": "code",
   "execution_count": 65,
   "metadata": {
    "tags": [],
    "ExecuteTime": {
     "end_time": "2023-11-09T22:06:20.141298298Z",
     "start_time": "2023-11-09T22:06:20.111989864Z"
    }
   },
   "outputs": [],
   "source": [
    "train['gender'] = train_gndr.round().astype('int')\n",
    "test['gender'] = test_gndr.round().astype('int')\n"
   ]
  },
  {
   "cell_type": "code",
   "execution_count": 66,
   "metadata": {
    "tags": [],
    "ExecuteTime": {
     "end_time": "2023-11-09T22:06:20.166469365Z",
     "start_time": "2023-11-09T22:06:20.112060738Z"
    }
   },
   "outputs": [],
   "source": [
    "# add to features arrays\n",
    "features.append('gender')"
   ]
  },
  {
   "cell_type": "code",
   "execution_count": 67,
   "metadata": {
    "tags": [],
    "ExecuteTime": {
     "end_time": "2023-11-09T22:06:20.183003009Z",
     "start_time": "2023-11-09T22:06:20.133470158Z"
    }
   },
   "outputs": [
    {
     "data": {
      "text/plain": "   age  height(cm)  weight(kg)  waist(cm)  eyesight(left)  eyesight(right)  \\\n0   55         165          60       81.0             0.5              0.6   \n1   70         165          65       89.0             0.6              0.7   \n2   20         170          75       81.0             0.4              0.5   \n3   35         180          95      105.0             1.5              1.2   \n4   30         165          60       80.5             1.5              1.0   \n5   50         170          55       51.0             1.2              1.2   \n6   45         160          55       69.0             1.5              1.2   \n7   55         155          60       84.5             0.7              0.9   \n8   40         165          70       89.0             0.7              1.0   \n9   40         155          50       73.0             1.5              1.5   \n\n   hearing(left)  hearing(right)  systolic  relaxation  fasting blood sugar  \\\n0              1               1       135          87                   94   \n1              2               2       146          83                  147   \n2              1               1       118          75                   79   \n3              1               1       131          88                   91   \n4              1               1       121          76                   91   \n5              1               1       146          95                  101   \n6              1               1       150          88                   84   \n7              1               1       137          91                  100   \n8              1               1       130          80                  104   \n9              1               1       105          70                   64   \n\n   Cholesterol  triglyceride  HDL  LDL  hemoglobin  Urine protein  \\\n0          172           300   40   75        16.5              1   \n1          194            55   57  126        16.2              1   \n2          178           197   45   93        17.4              1   \n3          180           203   38  102        15.9              1   \n4          155            87   44   93        15.4              1   \n5          199           343   31   99        15.9              1   \n6          222           153   69  122        13.0              1   \n7          282           165   51  198        14.5              1   \n8          243           163   59  150        15.7              1   \n9          183            27   55  122        13.2              1   \n\n   serum creatinine  AST  ALT  Gtp  dental caries  gender  \n0               1.0   22   25   27              0       1  \n1               1.1   27   23   37              1       1  \n2               0.8   27   31   53              0       1  \n3               1.0   20   27   30              1       1  \n4               0.8   19   13   17              0       1  \n5               0.7   24   42  119              1       1  \n6               0.7   17   12   16              0       0  \n7               0.7   16   15   16              0       0  \n8               0.9   24   21   31              0       1  \n9               0.7   22   16   14              0       0  ",
      "text/html": "<div>\n<style scoped>\n    .dataframe tbody tr th:only-of-type {\n        vertical-align: middle;\n    }\n\n    .dataframe tbody tr th {\n        vertical-align: top;\n    }\n\n    .dataframe thead th {\n        text-align: right;\n    }\n</style>\n<table border=\"1\" class=\"dataframe\">\n  <thead>\n    <tr style=\"text-align: right;\">\n      <th></th>\n      <th>age</th>\n      <th>height(cm)</th>\n      <th>weight(kg)</th>\n      <th>waist(cm)</th>\n      <th>eyesight(left)</th>\n      <th>eyesight(right)</th>\n      <th>hearing(left)</th>\n      <th>hearing(right)</th>\n      <th>systolic</th>\n      <th>relaxation</th>\n      <th>fasting blood sugar</th>\n      <th>Cholesterol</th>\n      <th>triglyceride</th>\n      <th>HDL</th>\n      <th>LDL</th>\n      <th>hemoglobin</th>\n      <th>Urine protein</th>\n      <th>serum creatinine</th>\n      <th>AST</th>\n      <th>ALT</th>\n      <th>Gtp</th>\n      <th>dental caries</th>\n      <th>gender</th>\n    </tr>\n  </thead>\n  <tbody>\n    <tr>\n      <th>0</th>\n      <td>55</td>\n      <td>165</td>\n      <td>60</td>\n      <td>81.0</td>\n      <td>0.5</td>\n      <td>0.6</td>\n      <td>1</td>\n      <td>1</td>\n      <td>135</td>\n      <td>87</td>\n      <td>94</td>\n      <td>172</td>\n      <td>300</td>\n      <td>40</td>\n      <td>75</td>\n      <td>16.5</td>\n      <td>1</td>\n      <td>1.0</td>\n      <td>22</td>\n      <td>25</td>\n      <td>27</td>\n      <td>0</td>\n      <td>1</td>\n    </tr>\n    <tr>\n      <th>1</th>\n      <td>70</td>\n      <td>165</td>\n      <td>65</td>\n      <td>89.0</td>\n      <td>0.6</td>\n      <td>0.7</td>\n      <td>2</td>\n      <td>2</td>\n      <td>146</td>\n      <td>83</td>\n      <td>147</td>\n      <td>194</td>\n      <td>55</td>\n      <td>57</td>\n      <td>126</td>\n      <td>16.2</td>\n      <td>1</td>\n      <td>1.1</td>\n      <td>27</td>\n      <td>23</td>\n      <td>37</td>\n      <td>1</td>\n      <td>1</td>\n    </tr>\n    <tr>\n      <th>2</th>\n      <td>20</td>\n      <td>170</td>\n      <td>75</td>\n      <td>81.0</td>\n      <td>0.4</td>\n      <td>0.5</td>\n      <td>1</td>\n      <td>1</td>\n      <td>118</td>\n      <td>75</td>\n      <td>79</td>\n      <td>178</td>\n      <td>197</td>\n      <td>45</td>\n      <td>93</td>\n      <td>17.4</td>\n      <td>1</td>\n      <td>0.8</td>\n      <td>27</td>\n      <td>31</td>\n      <td>53</td>\n      <td>0</td>\n      <td>1</td>\n    </tr>\n    <tr>\n      <th>3</th>\n      <td>35</td>\n      <td>180</td>\n      <td>95</td>\n      <td>105.0</td>\n      <td>1.5</td>\n      <td>1.2</td>\n      <td>1</td>\n      <td>1</td>\n      <td>131</td>\n      <td>88</td>\n      <td>91</td>\n      <td>180</td>\n      <td>203</td>\n      <td>38</td>\n      <td>102</td>\n      <td>15.9</td>\n      <td>1</td>\n      <td>1.0</td>\n      <td>20</td>\n      <td>27</td>\n      <td>30</td>\n      <td>1</td>\n      <td>1</td>\n    </tr>\n    <tr>\n      <th>4</th>\n      <td>30</td>\n      <td>165</td>\n      <td>60</td>\n      <td>80.5</td>\n      <td>1.5</td>\n      <td>1.0</td>\n      <td>1</td>\n      <td>1</td>\n      <td>121</td>\n      <td>76</td>\n      <td>91</td>\n      <td>155</td>\n      <td>87</td>\n      <td>44</td>\n      <td>93</td>\n      <td>15.4</td>\n      <td>1</td>\n      <td>0.8</td>\n      <td>19</td>\n      <td>13</td>\n      <td>17</td>\n      <td>0</td>\n      <td>1</td>\n    </tr>\n    <tr>\n      <th>5</th>\n      <td>50</td>\n      <td>170</td>\n      <td>55</td>\n      <td>51.0</td>\n      <td>1.2</td>\n      <td>1.2</td>\n      <td>1</td>\n      <td>1</td>\n      <td>146</td>\n      <td>95</td>\n      <td>101</td>\n      <td>199</td>\n      <td>343</td>\n      <td>31</td>\n      <td>99</td>\n      <td>15.9</td>\n      <td>1</td>\n      <td>0.7</td>\n      <td>24</td>\n      <td>42</td>\n      <td>119</td>\n      <td>1</td>\n      <td>1</td>\n    </tr>\n    <tr>\n      <th>6</th>\n      <td>45</td>\n      <td>160</td>\n      <td>55</td>\n      <td>69.0</td>\n      <td>1.5</td>\n      <td>1.2</td>\n      <td>1</td>\n      <td>1</td>\n      <td>150</td>\n      <td>88</td>\n      <td>84</td>\n      <td>222</td>\n      <td>153</td>\n      <td>69</td>\n      <td>122</td>\n      <td>13.0</td>\n      <td>1</td>\n      <td>0.7</td>\n      <td>17</td>\n      <td>12</td>\n      <td>16</td>\n      <td>0</td>\n      <td>0</td>\n    </tr>\n    <tr>\n      <th>7</th>\n      <td>55</td>\n      <td>155</td>\n      <td>60</td>\n      <td>84.5</td>\n      <td>0.7</td>\n      <td>0.9</td>\n      <td>1</td>\n      <td>1</td>\n      <td>137</td>\n      <td>91</td>\n      <td>100</td>\n      <td>282</td>\n      <td>165</td>\n      <td>51</td>\n      <td>198</td>\n      <td>14.5</td>\n      <td>1</td>\n      <td>0.7</td>\n      <td>16</td>\n      <td>15</td>\n      <td>16</td>\n      <td>0</td>\n      <td>0</td>\n    </tr>\n    <tr>\n      <th>8</th>\n      <td>40</td>\n      <td>165</td>\n      <td>70</td>\n      <td>89.0</td>\n      <td>0.7</td>\n      <td>1.0</td>\n      <td>1</td>\n      <td>1</td>\n      <td>130</td>\n      <td>80</td>\n      <td>104</td>\n      <td>243</td>\n      <td>163</td>\n      <td>59</td>\n      <td>150</td>\n      <td>15.7</td>\n      <td>1</td>\n      <td>0.9</td>\n      <td>24</td>\n      <td>21</td>\n      <td>31</td>\n      <td>0</td>\n      <td>1</td>\n    </tr>\n    <tr>\n      <th>9</th>\n      <td>40</td>\n      <td>155</td>\n      <td>50</td>\n      <td>73.0</td>\n      <td>1.5</td>\n      <td>1.5</td>\n      <td>1</td>\n      <td>1</td>\n      <td>105</td>\n      <td>70</td>\n      <td>64</td>\n      <td>183</td>\n      <td>27</td>\n      <td>55</td>\n      <td>122</td>\n      <td>13.2</td>\n      <td>1</td>\n      <td>0.7</td>\n      <td>22</td>\n      <td>16</td>\n      <td>14</td>\n      <td>0</td>\n      <td>0</td>\n    </tr>\n  </tbody>\n</table>\n</div>"
     },
     "execution_count": 67,
     "metadata": {},
     "output_type": "execute_result"
    }
   ],
   "source": [
    "train[features].head(10)"
   ]
  },
  {
   "cell_type": "code",
   "execution_count": 68,
   "metadata": {
    "tags": [],
    "ExecuteTime": {
     "end_time": "2023-11-09T22:06:20.194451723Z",
     "start_time": "2023-11-09T22:06:20.166743046Z"
    }
   },
   "outputs": [],
   "source": [
    "# train[train['eyesight(left)'] > 9.0] = 0\n",
    "# train[train['eyesight(right)'] > 9.0] = 0\n",
    "\n",
    "# test[test['eyesight(left)'] > 9.0] = 0\n",
    "# test[test['eyesight(right)'] > 9.0] = 0"
   ]
  },
  {
   "cell_type": "code",
   "execution_count": 69,
   "metadata": {
    "tags": [],
    "ExecuteTime": {
     "end_time": "2023-11-09T22:06:20.228332976Z",
     "start_time": "2023-11-09T22:06:20.181446942Z"
    }
   },
   "outputs": [],
   "source": [
    "# define y variable\n",
    "y = train['smoking']\n",
    "\n",
    "x_test = test[features]"
   ]
  },
  {
   "cell_type": "markdown",
   "source": [
    "## SMOTE"
   ],
   "metadata": {
    "collapsed": false
   }
  },
  {
   "cell_type": "code",
   "execution_count": 70,
   "outputs": [],
   "source": [
    "seed=12\n",
    "\n",
    "from imblearn.over_sampling import SMOTE\n",
    "\n",
    "smt = SMOTE(random_state=seed, sampling_strategy=\"minority\")\n",
    "train_smt, labels_smt = smt.fit_resample(train[features], y)\n",
    "\n"
   ],
   "metadata": {
    "collapsed": false,
    "ExecuteTime": {
     "end_time": "2023-11-09T22:06:22.115828161Z",
     "start_time": "2023-11-09T22:06:20.228777872Z"
    }
   }
  },
  {
   "cell_type": "code",
   "execution_count": 71,
   "outputs": [],
   "source": [
    "\n",
    "# reshuffle everything\n",
    "train_smt[\"smoking\"] = labels_smt\n",
    "\n",
    "train_smt = train_smt.sample(frac=1.0).reset_index(drop=True)\n",
    "y = train_smt.pop(\"smoking\")\n",
    "\n"
   ],
   "metadata": {
    "collapsed": false,
    "ExecuteTime": {
     "end_time": "2023-11-09T22:06:22.140027163Z",
     "start_time": "2023-11-09T22:06:22.138889497Z"
    }
   }
  },
  {
   "cell_type": "markdown",
   "source": [
    "## SMOTE added about 20000 points"
   ],
   "metadata": {
    "collapsed": false
   }
  },
  {
   "cell_type": "markdown",
   "source": [
    "## Scaling"
   ],
   "metadata": {
    "collapsed": false
   }
  },
  {
   "cell_type": "code",
   "execution_count": 72,
   "outputs": [],
   "source": [
    "from sklearn.preprocessing import StandardScaler, MinMaxScaler, RobustScaler\n",
    "\n",
    "std_scaler = StandardScaler()\n",
    "mm_scaler = MinMaxScaler()\n",
    "rob_scaler = RobustScaler()\n",
    "\n",
    "# swap out which scaler you want here (some people scale inside of CV)\n",
    "train[features] = pd.DataFrame(mm_scaler.fit_transform(train[features]), columns = features)\n",
    "test[features] = pd.DataFrame(mm_scaler.transform(test[features]), columns = features)\n"
   ],
   "metadata": {
    "collapsed": false,
    "ExecuteTime": {
     "end_time": "2023-11-09T22:06:22.171029693Z",
     "start_time": "2023-11-09T22:06:22.139004874Z"
    }
   }
  },
  {
   "cell_type": "markdown",
   "metadata": {},
   "source": [
    "## Cross Validation"
   ]
  },
  {
   "cell_type": "code",
   "execution_count": 73,
   "metadata": {
    "tags": [],
    "ExecuteTime": {
     "end_time": "2023-11-09T22:06:22.210995839Z",
     "start_time": "2023-11-09T22:06:22.169743673Z"
    }
   },
   "outputs": [],
   "source": [
    "from sklearn.model_selection import train_test_split, StratifiedKFold\n",
    "\n",
    "folds = 5\n",
    "seed = 12"
   ]
  },
  {
   "cell_type": "code",
   "execution_count": 74,
   "metadata": {
    "tags": [],
    "ExecuteTime": {
     "end_time": "2023-11-09T22:06:22.211205717Z",
     "start_time": "2023-11-09T22:06:22.210889735Z"
    }
   },
   "outputs": [],
   "source": [
    "# if continuous, change predict_proba to predict\n",
    "def run_cv_and_predict(train, test, features, model, seed,verbose=False):\n",
    "    \n",
    "    # initialize arrays \n",
    "    fold_scores = []\n",
    "    oof = np.zeros(train.shape[0])\n",
    "    preds = np.zeros((test.shape[0],folds))\n",
    "\n",
    "    # setup folding strategy\n",
    "    skf = StratifiedKFold(n_splits=folds,random_state = seed,shuffle=True)\n",
    "    # Use KFold if target is continuous\n",
    "    #skf = KFold(n_splits=folds,random_state = seed,shuffle=True)\n",
    "\n",
    "    # start cross validation\n",
    "    cur_fold = 1\n",
    "    for trn_idx, val_idx in skf.split(train[features], y):\n",
    "\n",
    "        # split indicies into train and validation\n",
    "        x_train = train[features].iloc[trn_idx]\n",
    "        y_train = y.iloc[trn_idx]\n",
    "        x_valid = train[features].iloc[val_idx]\n",
    "        y_valid = y.iloc[val_idx]\n",
    "\n",
    "        # fit model\n",
    "        model.fit(x_train,y_train)\n",
    "\n",
    "        # predict on validation set\n",
    "        fold_preds = model.predict_proba(x_valid)[:,1]\n",
    "        fold_preds = fold_preds.reshape(len(fold_preds)) # sbabwtdt\n",
    "        oof[val_idx] = fold_preds\n",
    "\n",
    "        # Compute scores\n",
    "        fold_score = roc_auc_score(y_valid,fold_preds)  # CHOOSE METRIC HERE\n",
    "        fold_scores.append(fold_score)\n",
    "        if verbose:\n",
    "            print(f'ROC AUC Score, fold {cur_fold}: {fold_score}')\n",
    "\n",
    "        # predict on test set - store all fold preds (take mode later)\n",
    "        test_preds = model.predict_proba(test[features])[:,1]\n",
    "        test_preds = test_preds.reshape(len(test_preds))  # shouldn't have to do this.\n",
    "        preds[:,cur_fold-1] = test_preds  \n",
    "        cur_fold +=1\n",
    "    \n",
    "    # Print mean fold and oof score \n",
    "    oof_score = roc_auc_score(y,oof)\n",
    "    # oof_score = np.sqrt(mean_squared_error(y,oof))\n",
    "    print(f'ROC AUC score: {np.mean(fold_scores):.5f}, Stdev: {np.std(fold_scores):.5f}, OOF score: {oof_score:.5f}')\n",
    "    # print(f'RMSE score: {np.mean(scores):.5f}, Stdev: {np.std(scores):.5f}, OOF score: {oof_score:.5f}')\n",
    "\n",
    "    return (preds,fold_scores,oof_score,oof)"
   ]
  },
  {
   "cell_type": "markdown",
   "metadata": {},
   "source": [
    "# Models"
   ]
  },
  {
   "cell_type": "code",
   "execution_count": 75,
   "metadata": {
    "tags": [],
    "ExecuteTime": {
     "end_time": "2023-11-09T22:06:22.251862933Z",
     "start_time": "2023-11-09T22:06:22.211107971Z"
    }
   },
   "outputs": [],
   "source": [
    "from sklearn.linear_model import LogisticRegression   # try CV too\n",
    "from xgboost import XGBClassifier\n",
    "from sklearn.metrics import roc_auc_score,roc_curve\n",
    "from sklearn.ensemble import VotingClassifier\n",
    "from sklearn.model_selection import cross_val_score\n"
   ]
  },
  {
   "cell_type": "markdown",
   "metadata": {},
   "source": [
    "## Split Data"
   ]
  },
  {
   "cell_type": "markdown",
   "metadata": {},
   "source": [
    "## Baseline Model - Logistic Regression"
   ]
  },
  {
   "cell_type": "code",
   "execution_count": 76,
   "metadata": {
    "tags": [],
    "ExecuteTime": {
     "end_time": "2023-11-09T22:06:26.141320083Z",
     "start_time": "2023-11-09T22:06:22.251803009Z"
    }
   },
   "outputs": [
    {
     "name": "stdout",
     "output_type": "stream",
     "text": [
      "ROC AUC score: 0.82428, Stdev: 0.00387, OOF score: 0.82427\n"
     ]
    }
   ],
   "source": [
    "model_lr = LogisticRegression()#C=10)\n",
    "preds_lr,scores_lr,oof_score_lr,oof_lr = run_cv_and_predict(train_smt,test,features,model_lr,seed)\n",
    "\n",
    "\n",
    "# model.fit(x_train,y_train)\n",
    "# val_preds = model.predict_proba(x_valid)[:,1]  \n",
    "# score = roc_auc_score(y_valid, val_preds)   # make sure true is first\n",
    "# print(f'ROC AUC Score = {score:.5f}')\n",
    "\n",
    "\n",
    "# default lr, no feature engineering, all features, tts = .81622, lb = .81916\n",
    "# int features = .80181, lb = .80703\n",
    "# float features = .76748, lb = .77048\n",
    "# cross validation: .81702, lb = \n",
    "# std scaling helped logreg by alot! = .83371\n",
    "# add gender feature: .84207\n",
    "# better sex preds: .84197"
   ]
  },
  {
   "cell_type": "markdown",
   "metadata": {},
   "source": [
    "## Plot ROC Curve"
   ]
  },
  {
   "cell_type": "code",
   "execution_count": 77,
   "metadata": {
    "tags": [],
    "ExecuteTime": {
     "end_time": "2023-11-09T22:06:26.147475727Z",
     "start_time": "2023-11-09T22:06:26.141133877Z"
    }
   },
   "outputs": [],
   "source": [
    "# plt.figure(figsize=(5,3.5))\n",
    "# fpr,tpr,_ = roc_curve(y,oof_lr)\n",
    "# plt.plot(fpr,tpr, label=f'AUC = {np.mean(scores_lr):.5}')\n",
    "# plt.legend(loc='lower right')\n",
    "# plt.title('ROC AUC Score for Logistic Regression')\n",
    "# plt.show()"
   ]
  },
  {
   "cell_type": "markdown",
   "metadata": {},
   "source": [
    "## Catboost\n",
    "* About 2x speed of RF with current config, 2 min run time"
   ]
  },
  {
   "cell_type": "code",
   "execution_count": 78,
   "metadata": {
    "tags": [],
    "ExecuteTime": {
     "end_time": "2023-11-09T22:06:26.265550067Z",
     "start_time": "2023-11-09T22:06:26.143175645Z"
    }
   },
   "outputs": [
    {
     "name": "stdout",
     "output_type": "stream",
     "text": [
      "CPU times: user 150 ms, sys: 229 ms, total: 379 ms\n",
      "Wall time: 93.6 ms\n"
     ]
    }
   ],
   "source": [
    "%%time\n",
    "from catboost import CatBoostClassifier\n",
    "\n",
    "\n",
    "\n",
    "# results = []\n",
    "# for iters in [500,750,1000,1250,1500]:\n",
    "#     for d in [3,5,6,7,9]:\n",
    "#         for lr in [.001,.005,.01,.025,.05,.1]:\n",
    "#             model_cat = CatBoostClassifier(verbose=0, \n",
    "#                                            iterations=iters,\n",
    "#                                            depth=d,\n",
    "#                                            learning_rate=lr,\n",
    "#                                            task_type='GPU')\n",
    "#             print(f'iters: {iters}, d: {d}, lr: {lr}')\n",
    "#             preds_cat, scores_cat, oof_score_cat, oof_cat = run_cv_and_predict(train,test,features,model_cat,seed,verbose=False)\n",
    "#             results.append([iters,d,lr, np.mean(scores_cat),oof_score_cat])\n",
    "\n",
    "# default ROC AUC score: 0.86531, Stdev: 0.00177, OOF score: 0.86529, lb = \n",
    "# 2 min run time\n",
    "\n",
    "# add gender feature, 1000,.025,6, score = .86874, lb = .87257\n",
    "\n",
    "# best optimization model: 1500,5,0.1, cv = 0.86845, oof = 0.86844  ( a bit lower than before"
   ]
  },
  {
   "cell_type": "code",
   "execution_count": 79,
   "metadata": {
    "ExecuteTime": {
     "end_time": "2023-11-09T22:06:26.267618300Z",
     "start_time": "2023-11-09T22:06:26.265163109Z"
    }
   },
   "outputs": [],
   "source": [
    "# results_df = pd.DataFrame(results,columns=['iterations','depth','learning_rate','cv_score','oof_score'])\n",
    "# results_df.head()"
   ]
  },
  {
   "cell_type": "code",
   "execution_count": 80,
   "metadata": {
    "ExecuteTime": {
     "end_time": "2023-11-09T22:06:26.307893678Z",
     "start_time": "2023-11-09T22:06:26.266441392Z"
    }
   },
   "outputs": [],
   "source": [
    "# best_row = results_df[results_df.cv_score == max(results_df.cv_score)]\n",
    "# print(best_row)"
   ]
  },
  {
   "cell_type": "code",
   "execution_count": 81,
   "metadata": {
    "ExecuteTime": {
     "end_time": "2023-11-09T22:06:27.157619400Z",
     "start_time": "2023-11-09T22:06:26.307822826Z"
    }
   },
   "outputs": [
    {
     "name": "stdout",
     "output_type": "stream",
     "text": [
      "Requirement already satisfied: plotly in /home/jon/mambaforge/envs/dataspell/lib/python3.8/site-packages (5.18.0)\r\n",
      "Requirement already satisfied: tenacity>=6.2.0 in /home/jon/mambaforge/envs/dataspell/lib/python3.8/site-packages (from plotly) (8.2.3)\r\n",
      "Requirement already satisfied: packaging in /home/jon/mambaforge/envs/dataspell/lib/python3.8/site-packages (from plotly) (23.1)\r\n"
     ]
    }
   ],
   "source": [
    "!pip install plotly"
   ]
  },
  {
   "cell_type": "code",
   "execution_count": 82,
   "metadata": {
    "ExecuteTime": {
     "end_time": "2023-11-09T22:06:27.166846705Z",
     "start_time": "2023-11-09T22:06:27.160820376Z"
    }
   },
   "outputs": [],
   "source": [
    "# import plotly.express as px\n",
    "\n",
    "# # plotly 3d surface\n",
    "# fig = px.scatter_3d(results_df, x='iterations', y='depth', z='learning_rate',color='cv_score',\n",
    "#                    title='Score vs hyperparams')  # scatter of 3 cols of df\n",
    "# #fig.update_traces(marker={'size': 4})  # scene=dict(zaxis=dict(range=[-5, 5]))\n",
    "# fig.show(renderer='notebook')\n",
    "\n",
    "# plotly doesn't show up in gradient\n"
   ]
  },
  {
   "cell_type": "markdown",
   "metadata": {},
   "source": [
    "### Use static matplotlib since plotly not working"
   ]
  },
  {
   "cell_type": "code",
   "execution_count": 83,
   "metadata": {
    "ExecuteTime": {
     "end_time": "2023-11-09T22:06:27.210316805Z",
     "start_time": "2023-11-09T22:06:27.165961881Z"
    }
   },
   "outputs": [],
   "source": [
    "# import re, seaborn as sns\n",
    "# import numpy as np\n",
    "\n",
    "# from matplotlib import pyplot as plt\n",
    "# from mpl_toolkits.mplot3d import Axes3D\n",
    "# from matplotlib.colors import ListedColormap\n",
    "# sns.set_style('whitegrid')\n",
    "\n",
    "# # axes instance\n",
    "# fig = plt.figure(figsize=(6,6))\n",
    "# ax = Axes3D(fig, auto_add_to_figure=False)\n",
    "# fig.add_axes(ax)\n",
    "\n",
    "# # get colormap from seaborn\n",
    "# cmap = ListedColormap(sns.color_palette(\"viridis\", 256).as_hex())\n",
    "\n",
    "# # plot\n",
    "# sc = ax.scatter(results_df.iterations, results_df.depth, results_df.learning_rate, s=40, c=results_df.cv_score, marker='o', cmap=cmap, alpha=1)\n",
    "# ax.set_xlabel('Iterations')\n",
    "# ax.set_ylabel('Depth')\n",
    "# ax.set_zlabel('Learning Rate')\n",
    "\n",
    "# # legend\n",
    "# plt.legend(*sc.legend_elements(), bbox_to_anchor=(1.05, 1), loc=2)\n",
    "\n",
    "# # save\n",
    "# plt.savefig(\"scatter_hue\", bbox_inches='tight')"
   ]
  },
  {
   "cell_type": "markdown",
   "metadata": {},
   "source": [
    "## Catboost with Optuna"
   ]
  },
  {
   "cell_type": "code",
   "execution_count": 84,
   "metadata": {
    "tags": [],
    "ExecuteTime": {
     "end_time": "2023-11-09T22:06:27.246692693Z",
     "start_time": "2023-11-09T22:06:27.198518280Z"
    }
   },
   "outputs": [],
   "source": [
    "\n",
    "def objective(trial):\n",
    "    \n",
    "    scores = []\n",
    "    \n",
    "    param_grid = {\n",
    "        'learning_rate': trial.suggest_float('learning_rate', 5e-2, 2e-1),\n",
    "        'n_estimators': trial.suggest_int('n_estimators', 500,2000),\n",
    "        'depth': trial.suggest_categorical('depth', [3,5,7,9,11,13,15]),\n",
    "        #\"subsample\": trial.suggest_float(\"subsample\", 0.05, 1.0),\n",
    "        #\"colsample_bylevel\": trial.suggest_float(\"colsample_bylevel\", 0.05, 1.0),\n",
    "        \"min_data_in_leaf\": trial.suggest_int(\"min_data_in_leaf\", 1, 100),\n",
    "    }\n",
    "    \n",
    "    #model = XGBClassifier(**param_grid,tree_method=\"gpu_hist\") #tree_method='hist',device='cuda')\n",
    "    model = CatBoostClassifier(**param_grid,\n",
    "                                verbose=0,\n",
    "                               task_type='GPU')\n",
    "    \n",
    "    # do cross validation - 5 folds\n",
    "    skf = StratifiedKFold(n_splits=folds,random_state = seed,shuffle=True)\n",
    "\n",
    "    # start cross validation\n",
    "    cur_fold = 1\n",
    "    for trn_idx, val_idx in skf.split(train[features], y):\n",
    "\n",
    "        # split indicies into train and validation\n",
    "        x_train = train[features].iloc[trn_idx]\n",
    "        y_train = y.iloc[trn_idx]\n",
    "        x_valid = train[features].iloc[val_idx]\n",
    "        y_valid = y.iloc[val_idx]\n",
    "\n",
    "        # fit model\n",
    "        model.fit(x_train,y_train)\n",
    "\n",
    "        # predict on validation set\n",
    "        fold_preds = model.predict_proba(x_valid)[:,1]\n",
    "        fold_score = roc_auc_score(y_valid,fold_preds) \n",
    "        scores.append(fold_score)\n",
    "        #print(f'ROC AUC Score, fold {cur_fold}: {fold_score}')\n",
    "\n",
    "        # predict on test set - store all fold preds (take mode later)\n",
    "#         test_preds = model.predict_proba(test[features])[:,1]\n",
    "#         test_preds = test_preds.reshape(len(test_preds))  # shouldn't have to do this.\n",
    "#         preds[:,cur_fold-1] = test_preds \n",
    "        \n",
    "        cur_fold +=1\n",
    "        \n",
    "    print(np.mean(scores))\n",
    "\n",
    "    return np.mean(scores)\n"
   ]
  },
  {
   "cell_type": "code",
   "execution_count": 85,
   "metadata": {
    "tags": [],
    "ExecuteTime": {
     "end_time": "2023-11-09T22:06:27.289264810Z",
     "start_time": "2023-11-09T22:06:27.238823786Z"
    }
   },
   "outputs": [],
   "source": [
    "# %%time\n",
    "# # create the study\n",
    "# optuna.logging.set_verbosity(optuna.logging.WARNING)\n",
    "# \n",
    "# sampler = TPESampler(seed=1)\n",
    "# study = optuna.create_study(study_name=\"catboost\", direction=\"maximize\", sampler=sampler)\n",
    "# study.optimize(objective, n_trials=10)"
   ]
  },
  {
   "cell_type": "code",
   "execution_count": 86,
   "metadata": {
    "tags": [],
    "ExecuteTime": {
     "end_time": "2023-11-09T22:06:27.289415818Z",
     "start_time": "2023-11-09T22:06:27.279852385Z"
    }
   },
   "outputs": [],
   "source": [
    "# # evaluate the trial\n",
    "# print(\"Number of finished trials: \", len(study.trials))\n",
    "# print(\"Best trial:\")\n",
    "# best_trial = study.best_trial\n",
    "# print(\"  Value: \", best_trial.value)\n",
    "# print(\"  Params: \")\n",
    "# for key, value in best_trial.params.items():\n",
    "#     print(\"    {}: {}\".format(key, value))\n"
   ]
  },
  {
   "cell_type": "code",
   "execution_count": 87,
   "metadata": {
    "ExecuteTime": {
     "end_time": "2023-11-09T22:06:27.305494636Z",
     "start_time": "2023-11-09T22:06:27.281520048Z"
    }
   },
   "outputs": [
    {
     "name": "stdout",
     "output_type": "stream",
     "text": [
      "test\n"
     ]
    }
   ],
   "source": [
    "print('test')"
   ]
  },
  {
   "cell_type": "code",
   "execution_count": 88,
   "metadata": {
    "execution": {
     "iopub.execute_input": "2023-11-03T15:55:14.937654Z",
     "iopub.status.busy": "2023-11-03T15:55:14.937301Z",
     "iopub.status.idle": "2023-11-03T15:55:14.946483Z",
     "shell.execute_reply": "2023-11-03T15:55:14.945815Z",
     "shell.execute_reply.started": "2023-11-03T15:55:14.937629Z"
    },
    "ExecuteTime": {
     "end_time": "2023-11-09T22:06:27.340988321Z",
     "start_time": "2023-11-09T22:06:27.298246258Z"
    }
   },
   "outputs": [],
   "source": [
    "# load trained model\n",
    "# model_cat = pickle.load(open('/kaggle/input/s3e24-saved-models/catboost_optuna2.pkl', 'rb'))\n",
    "# preds_cat = model_cat.predict_proba(x_test)[:,1]"
   ]
  },
  {
   "cell_type": "markdown",
   "metadata": {},
   "source": [
    "## XGBoost"
   ]
  },
  {
   "cell_type": "code",
   "execution_count": 89,
   "metadata": {
    "execution": {
     "iopub.execute_input": "2023-11-03T15:55:14.947898Z",
     "iopub.status.busy": "2023-11-03T15:55:14.947483Z",
     "iopub.status.idle": "2023-11-03T15:55:14.963654Z",
     "shell.execute_reply": "2023-11-03T15:55:14.962895Z",
     "shell.execute_reply.started": "2023-11-03T15:55:14.947876Z"
    },
    "ExecuteTime": {
     "end_time": "2023-11-09T22:06:27.341104397Z",
     "start_time": "2023-11-09T22:06:27.339800182Z"
    }
   },
   "outputs": [],
   "source": [
    "#set1_params = {}"
   ]
  },
  {
   "cell_type": "code",
   "execution_count": 90,
   "metadata": {
    "execution": {
     "iopub.execute_input": "2023-11-03T16:47:48.245504Z",
     "iopub.status.busy": "2023-11-03T16:47:48.245119Z"
    },
    "ExecuteTime": {
     "end_time": "2023-11-09T22:06:27.381007362Z",
     "start_time": "2023-11-09T22:06:27.339869611Z"
    }
   },
   "outputs": [
    {
     "name": "stdout",
     "output_type": "stream",
     "text": [
      "CPU times: user 583 µs, sys: 953 µs, total: 1.54 ms\n",
      "Wall time: 1.39 ms\n"
     ]
    }
   ],
   "source": [
    "%%time\n",
    "\n",
    "# # set 1\n",
    "# model_xgb = XGBClassifier(#lambda=1.9550993816120785,\n",
    "#                           alpha= 5.814007913805305,\n",
    "#                           colsample_bytree= 0.3,\n",
    "#                           subsample= 1.0,\n",
    "#                           learning_rate= 0.0583947767053339,\n",
    "#                           n_estimators= 1070,\n",
    "#                           max_depth= 7,\n",
    "#                           min_child_weight= 64,\n",
    "#                           random_seed=seed,\n",
    "#                          )\n",
    "\n",
    "\n",
    "# set 2\n",
    "model_xgb = XGBClassifier(#lambda=1.9550993816120785,\n",
    "                      alpha= 4.632016934249366,\n",
    "                      colsample_bytree= 0.3,\n",
    "                      subsample= 1.0,\n",
    "                      learning_rate= 0.06313783399677664,\n",
    "                      n_estimators= 1136,\n",
    "                      max_depth= 7,\n",
    "                      min_child_weight= 53,\n",
    "                      random_state=seed\n",
    "                     )\n",
    "\n",
    "# # set 3\n",
    "# model_xgb = XGBClassifier(#lambda=1.9550993816120785,\n",
    "#                       alpha= 7.061,\n",
    "#                       colsample_bytree= 0.3,\n",
    "#                       subsample= 0.8,\n",
    "#                       learning_rate= 0.03416,\n",
    "#                       n_estimators= 1874,\n",
    "#                       max_depth= 7,\n",
    "#                       min_child_weight= 37,\n",
    "#                       random_state=seed\n",
    "#                      )\n",
    "\n",
    "\n",
    "# model_xgb = XGBClassifier(max_depth=4, n_estimators=100, learning_rate=.35)\n",
    "\n",
    "# print(f'learning rate: {lr}')\n",
    "# \n",
    "# preds_xgb, scores_xgb, oof_score_xgb, oof_xgb = run_cv_and_predict(train_smt,test,features,model_xgb,seed,verbose=True)\n",
    "\n",
    "# default, ROC AUC score: 0.86121, Stdev: 0.00183, OOF score: 0.86118, lb = .86831\n",
    "# tuning, higher estimators  = decreasing results.  Try just 50, currently 100 is the highest\n",
    "# max depth of 4 is .86147 (highest of 3-9)\n",
    "# lr .1 to .5, highest is .35 at .86160\n",
    "\n",
    "\n",
    "# Optuna run 1: ROC AUC score: 0.86783, Stdev: 0.00167, OOF score: 0.86782\n",
    "# eyesight >9.0 = 0.0, ROC AUC score: 0.86798, Stdev: 0.00245, OOF score: 0.86796\n",
    "\n",
    "# eyesight thing off, std scaler, ROC AUC score: 0.86783, Stdev: 0.00167, OOF score: 0.86782, lb = .87136\n",
    "# eyesight off, mm scaler: tad worse\n",
    "\n",
    "# add gender feature, no eye correction\n",
    "# set 1 hp's: cv = .87247, lb = .87587\n",
    "# set 2 hp's: cv = .87280, lb = .87623\n",
    "# set 3 hp's: cv = .87304, lb = .87610\n",
    "\n",
    "# use better model for sex\n",
    "# set 1 hp's: cv = 0.87255\n",
    "# set 2 hp's: cv = "
   ]
  },
  {
   "cell_type": "markdown",
   "metadata": {},
   "source": [
    "## Train Full model with different random seeds and average results"
   ]
  },
  {
   "cell_type": "code",
   "execution_count": 91,
   "metadata": {
    "execution": {
     "iopub.execute_input": "2023-11-03T16:00:33.998953Z",
     "iopub.status.busy": "2023-11-03T16:00:33.998524Z",
     "iopub.status.idle": "2023-11-03T16:00:34.006662Z",
     "shell.execute_reply": "2023-11-03T16:00:34.005401Z",
     "shell.execute_reply.started": "2023-11-03T16:00:33.998920Z"
    },
    "ExecuteTime": {
     "end_time": "2023-11-09T22:06:27.384288982Z",
     "start_time": "2023-11-09T22:06:27.380834040Z"
    }
   },
   "outputs": [],
   "source": [
    "# %%time\n",
    "# results = []\n",
    "\n",
    "\n",
    "# for i in range(10):\n",
    "    \n",
    "# define the model\n",
    "# model_xgb = XGBClassifier(#lambda=1.9550993816120785,\n",
    "#                       alpha= 4.632016934249366,\n",
    "#                       colsample_bytree= 0.3,\n",
    "#                       subsample= 1.0,\n",
    "#                       learning_rate= 0.06313783399677664,\n",
    "#                       n_estimators= 1136,\n",
    "#                       max_depth= 7,\n",
    "#                       min_child_weight= 53,\n",
    "#                       random_state=i\n",
    "#                      )\n",
    "\n",
    "\n",
    "    \n",
    "#     # fit the model on the whole dataset\n",
    "#     model_xgb.fit(train[features],y)\n",
    "#     # make predictions\n",
    "#     results.append(model_xgb.predict_proba(x_test)[:,1])\n",
    "    \n",
    "# preds_xgb_full = np.mean(results,axis=0)\n",
    "\n",
    "    \n",
    "# 11/02/23 New params, score = .86798\n"
   ]
  },
  {
   "cell_type": "markdown",
   "metadata": {},
   "source": [
    "## LightGBM\n",
    "* super fast ~= 40 sec"
   ]
  },
  {
   "cell_type": "code",
   "execution_count": 92,
   "metadata": {
    "execution": {
     "iopub.execute_input": "2023-11-03T16:00:34.008422Z",
     "iopub.status.busy": "2023-11-03T16:00:34.008080Z",
     "iopub.status.idle": "2023-11-03T16:01:49.825631Z",
     "shell.execute_reply": "2023-11-03T16:01:49.824538Z",
     "shell.execute_reply.started": "2023-11-03T16:00:34.008388Z"
    },
    "ExecuteTime": {
     "end_time": "2023-11-09T22:06:27.415044647Z",
     "start_time": "2023-11-09T22:06:27.382230758Z"
    }
   },
   "outputs": [],
   "source": [
    "# %%time\n",
    "from lightgbm import LGBMClassifier\n",
    "\n",
    "# # best params so far:\n",
    "# est = 1000\n",
    "# lr = .02\n",
    "# d = 3\n",
    "\n",
    "# # results = []\n",
    "\n",
    "# # for i in range(10):\n",
    "# model_lgbm = LGBMClassifier(n_estimators=est,\n",
    "#                             learning_rate=lr,\n",
    "#                             max_depth=d,\n",
    "#                             random_state=seed,\n",
    "#                             )\n",
    "    \n",
    "\n",
    "# #     # now that tuned fit the model on the whole dataset\n",
    "# #     model_lgbm.fit(train[features],y)\n",
    "    \n",
    "# #     # make predictions\n",
    "# #     results.append(model_lgbm.predict_proba(x_test)[:,1])\n",
    "    \n",
    "# # preds_lgbm_full = np.mean(results,axis=0)\n",
    "\n",
    "# preds_lgbm, scores_lgbm, oof_score_lgbm, oof_lgbm = run_cv_and_predict(train,test,features,model_lgbm,seed,verbose=True)\n",
    "\n",
    "# default: ROC AUC score: 0.86130, Stdev: 0.00173, OOF score: 0.86128,\n",
    "# default 100 to 200 est: .86253\n",
    "# 200 to 400 est: .86307\n",
    "# 1000,.02,3, score = .86534\n",
    "\n",
    "# add gender feat, cv = .86353"
   ]
  },
  {
   "cell_type": "code",
   "execution_count": 93,
   "metadata": {
    "execution": {
     "iopub.execute_input": "2023-11-03T16:01:49.827299Z",
     "iopub.status.busy": "2023-11-03T16:01:49.826841Z",
     "iopub.status.idle": "2023-11-03T16:01:49.831643Z",
     "shell.execute_reply": "2023-11-03T16:01:49.830308Z",
     "shell.execute_reply.started": "2023-11-03T16:01:49.827271Z"
    },
    "ExecuteTime": {
     "end_time": "2023-11-09T22:06:27.449284640Z",
     "start_time": "2023-11-09T22:06:27.403796298Z"
    }
   },
   "outputs": [],
   "source": [
    "\n",
    "def objective(trial):\n",
    "\n",
    "    scores = []\n",
    "\n",
    "    lgbm_params = {'n_estimators': trial.suggest_int('n_estimators', 500, 2000),\n",
    "                   'max_depth': trial.suggest_int('max_depth', 20,100),\n",
    "                   'learning_rate': trial.suggest_float('learning_rate', 5e-3, 2e-1),\n",
    "                   'min_child_weight': trial.suggest_float('min_child_weight',1.0,5.0),\n",
    "                   'min_child_samples': trial.suggest_int('min_child_samples',100,400),\n",
    "                   'subsample': trial.suggest_float('subsample',0.3,1.0),\n",
    "                   'subsample_freq': trial.suggest_int('subsample_freq',3,20),\n",
    "                   'colsample_bytree': trial.suggest_float('colsample_bytree',0.2,1.00),\n",
    "                   'num_leaves': trial.suggest_int('num_leaves',5,120),\n",
    "                   }\n",
    "\n",
    "    model=LGBMClassifier(**lgbm_params,random_state=seed,verbose=-1)\n",
    "\n",
    "    # do cross validation - 5 folds\n",
    "    skf = StratifiedKFold(n_splits=folds, random_state=seed, shuffle=True)\n",
    "\n",
    "    # start cross validation\n",
    "    cur_fold = 1\n",
    "    for trn_idx, val_idx in skf.split(train_smt, y):\n",
    "        # split indicies into train and validation\n",
    "        x_train = train[features].iloc[trn_idx]\n",
    "        y_train = y.iloc[trn_idx]\n",
    "        x_valid = train[features].iloc[val_idx]\n",
    "        y_valid = y.iloc[val_idx]\n",
    "\n",
    "        # fit model\n",
    "        model.fit(x_train, y_train)\n",
    "\n",
    "        # predict on validation set\n",
    "        fold_preds = model.predict_proba(x_valid)[:, 1]\n",
    "        fold_score = roc_auc_score(y_valid, fold_preds)\n",
    "        scores.append(fold_score)\n",
    "        #print(f'ROC AUC Score, fold {cur_fold}: {fold_score}')\n",
    "\n",
    "        # predict on test set - store all fold preds (take mode later)\n",
    "        #         test_preds = model.predict_proba(test[features])[:,1]\n",
    "        #         test_preds = test_preds.reshape(len(test_preds))  # shouldn't have to do this.\n",
    "        #         preds[:,cur_fold-1] = test_preds \n",
    "\n",
    "        cur_fold += 1\n",
    "\n",
    "    print(np.mean(scores))\n",
    "\n",
    "    return np.mean(scores)\n"
   ]
  },
  {
   "cell_type": "code",
   "execution_count": 94,
   "metadata": {
    "execution": {
     "iopub.execute_input": "2023-11-03T16:01:49.833347Z",
     "iopub.status.busy": "2023-11-03T16:01:49.833019Z",
     "iopub.status.idle": "2023-11-03T16:01:49.850745Z",
     "shell.execute_reply": "2023-11-03T16:01:49.849059Z",
     "shell.execute_reply.started": "2023-11-03T16:01:49.833320Z"
    },
    "ExecuteTime": {
     "end_time": "2023-11-09T22:06:27.562054671Z",
     "start_time": "2023-11-09T22:06:27.445808190Z"
    }
   },
   "outputs": [
    {
     "name": "stderr",
     "output_type": "stream",
     "text": [
      "[W 2023-11-09 15:06:27,464] Trial 0 failed with parameters: {'n_estimators': 1125, 'max_depth': 78, 'learning_rate': 0.005022303089382253, 'min_child_weight': 2.209330290527359, 'min_child_samples': 144, 'subsample': 0.3646370163381584, 'subsample_freq': 6, 'colsample_bytree': 0.4764485816344382, 'num_leaves': 51} because of the following error: IndexError('positional indexers are out-of-bounds').\n",
      "Traceback (most recent call last):\n",
      "  File \"/home/jon/mambaforge/envs/dataspell/lib/python3.8/site-packages/pandas/core/indexing.py\", line 1618, in _get_list_axis\n",
      "    return self.obj._take_with_is_copy(key, axis=axis)\n",
      "  File \"/home/jon/mambaforge/envs/dataspell/lib/python3.8/site-packages/pandas/core/generic.py\", line 3948, in _take_with_is_copy\n",
      "    result = self._take(indices=indices, axis=axis)\n",
      "  File \"/home/jon/mambaforge/envs/dataspell/lib/python3.8/site-packages/pandas/core/generic.py\", line 3932, in _take\n",
      "    new_data = self._mgr.take(\n",
      "  File \"/home/jon/mambaforge/envs/dataspell/lib/python3.8/site-packages/pandas/core/internals/managers.py\", line 960, in take\n",
      "    indexer = maybe_convert_indices(indexer, n, verify=verify)\n",
      "  File \"/home/jon/mambaforge/envs/dataspell/lib/python3.8/site-packages/pandas/core/indexers/utils.py\", line 284, in maybe_convert_indices\n",
      "    raise IndexError(\"indices are out-of-bounds\")\n",
      "IndexError: indices are out-of-bounds\n",
      "\n",
      "The above exception was the direct cause of the following exception:\n",
      "\n",
      "Traceback (most recent call last):\n",
      "  File \"/home/jon/mambaforge/envs/dataspell/lib/python3.8/site-packages/optuna/study/_optimize.py\", line 200, in _run_trial\n",
      "    value_or_values = func(trial)\n",
      "  File \"/tmp/ipykernel_243416/3260701950.py\", line 25, in objective\n",
      "    x_train = train[features].iloc[trn_idx]\n",
      "  File \"/home/jon/mambaforge/envs/dataspell/lib/python3.8/site-packages/pandas/core/indexing.py\", line 1103, in __getitem__\n",
      "    return self._getitem_axis(maybe_callable, axis=axis)\n",
      "  File \"/home/jon/mambaforge/envs/dataspell/lib/python3.8/site-packages/pandas/core/indexing.py\", line 1647, in _getitem_axis\n",
      "    return self._get_list_axis(key, axis=axis)\n",
      "  File \"/home/jon/mambaforge/envs/dataspell/lib/python3.8/site-packages/pandas/core/indexing.py\", line 1621, in _get_list_axis\n",
      "    raise IndexError(\"positional indexers are out-of-bounds\") from err\n",
      "IndexError: positional indexers are out-of-bounds\n",
      "[W 2023-11-09 15:06:27,464] Trial 0 failed with value None.\n"
     ]
    },
    {
     "ename": "IndexError",
     "evalue": "positional indexers are out-of-bounds",
     "output_type": "error",
     "traceback": [
      "\u001B[0;31m---------------------------------------------------------------------------\u001B[0m",
      "\u001B[0;31mIndexError\u001B[0m                                Traceback (most recent call last)",
      "File \u001B[0;32m~/mambaforge/envs/dataspell/lib/python3.8/site-packages/pandas/core/indexing.py:1618\u001B[0m, in \u001B[0;36m_iLocIndexer._get_list_axis\u001B[0;34m(self, key, axis)\u001B[0m\n\u001B[1;32m   1617\u001B[0m \u001B[38;5;28;01mtry\u001B[39;00m:\n\u001B[0;32m-> 1618\u001B[0m     \u001B[38;5;28;01mreturn\u001B[39;00m \u001B[38;5;28;43mself\u001B[39;49m\u001B[38;5;241;43m.\u001B[39;49m\u001B[43mobj\u001B[49m\u001B[38;5;241;43m.\u001B[39;49m\u001B[43m_take_with_is_copy\u001B[49m\u001B[43m(\u001B[49m\u001B[43mkey\u001B[49m\u001B[43m,\u001B[49m\u001B[43m \u001B[49m\u001B[43maxis\u001B[49m\u001B[38;5;241;43m=\u001B[39;49m\u001B[43maxis\u001B[49m\u001B[43m)\u001B[49m\n\u001B[1;32m   1619\u001B[0m \u001B[38;5;28;01mexcept\u001B[39;00m \u001B[38;5;167;01mIndexError\u001B[39;00m \u001B[38;5;28;01mas\u001B[39;00m err:\n\u001B[1;32m   1620\u001B[0m     \u001B[38;5;66;03m# re-raise with different error message\u001B[39;00m\n",
      "File \u001B[0;32m~/mambaforge/envs/dataspell/lib/python3.8/site-packages/pandas/core/generic.py:3948\u001B[0m, in \u001B[0;36mNDFrame._take_with_is_copy\u001B[0;34m(self, indices, axis)\u001B[0m\n\u001B[1;32m   3941\u001B[0m \u001B[38;5;250m\u001B[39m\u001B[38;5;124;03m\"\"\"\u001B[39;00m\n\u001B[1;32m   3942\u001B[0m \u001B[38;5;124;03mInternal version of the `take` method that sets the `_is_copy`\u001B[39;00m\n\u001B[1;32m   3943\u001B[0m \u001B[38;5;124;03mattribute to keep track of the parent dataframe (using in indexing\u001B[39;00m\n\u001B[0;32m   (...)\u001B[0m\n\u001B[1;32m   3946\u001B[0m \u001B[38;5;124;03mSee the docstring of `take` for full explanation of the parameters.\u001B[39;00m\n\u001B[1;32m   3947\u001B[0m \u001B[38;5;124;03m\"\"\"\u001B[39;00m\n\u001B[0;32m-> 3948\u001B[0m result \u001B[38;5;241m=\u001B[39m \u001B[38;5;28;43mself\u001B[39;49m\u001B[38;5;241;43m.\u001B[39;49m\u001B[43m_take\u001B[49m\u001B[43m(\u001B[49m\u001B[43mindices\u001B[49m\u001B[38;5;241;43m=\u001B[39;49m\u001B[43mindices\u001B[49m\u001B[43m,\u001B[49m\u001B[43m \u001B[49m\u001B[43maxis\u001B[49m\u001B[38;5;241;43m=\u001B[39;49m\u001B[43maxis\u001B[49m\u001B[43m)\u001B[49m\n\u001B[1;32m   3949\u001B[0m \u001B[38;5;66;03m# Maybe set copy if we didn't actually change the index.\u001B[39;00m\n",
      "File \u001B[0;32m~/mambaforge/envs/dataspell/lib/python3.8/site-packages/pandas/core/generic.py:3932\u001B[0m, in \u001B[0;36mNDFrame._take\u001B[0;34m(self, indices, axis, convert_indices)\u001B[0m\n\u001B[1;32m   3930\u001B[0m         \u001B[38;5;28;01mreturn\u001B[39;00m \u001B[38;5;28mself\u001B[39m\u001B[38;5;241m.\u001B[39mcopy(deep\u001B[38;5;241m=\u001B[39m\u001B[38;5;28;01mNone\u001B[39;00m)\n\u001B[0;32m-> 3932\u001B[0m new_data \u001B[38;5;241m=\u001B[39m \u001B[38;5;28;43mself\u001B[39;49m\u001B[38;5;241;43m.\u001B[39;49m\u001B[43m_mgr\u001B[49m\u001B[38;5;241;43m.\u001B[39;49m\u001B[43mtake\u001B[49m\u001B[43m(\u001B[49m\n\u001B[1;32m   3933\u001B[0m \u001B[43m    \u001B[49m\u001B[43mindices\u001B[49m\u001B[43m,\u001B[49m\n\u001B[1;32m   3934\u001B[0m \u001B[43m    \u001B[49m\u001B[43maxis\u001B[49m\u001B[38;5;241;43m=\u001B[39;49m\u001B[38;5;28;43mself\u001B[39;49m\u001B[38;5;241;43m.\u001B[39;49m\u001B[43m_get_block_manager_axis\u001B[49m\u001B[43m(\u001B[49m\u001B[43maxis\u001B[49m\u001B[43m)\u001B[49m\u001B[43m,\u001B[49m\n\u001B[1;32m   3935\u001B[0m \u001B[43m    \u001B[49m\u001B[43mverify\u001B[49m\u001B[38;5;241;43m=\u001B[39;49m\u001B[38;5;28;43;01mTrue\u001B[39;49;00m\u001B[43m,\u001B[49m\n\u001B[1;32m   3936\u001B[0m \u001B[43m    \u001B[49m\u001B[43mconvert_indices\u001B[49m\u001B[38;5;241;43m=\u001B[39;49m\u001B[43mconvert_indices\u001B[49m\u001B[43m,\u001B[49m\n\u001B[1;32m   3937\u001B[0m \u001B[43m\u001B[49m\u001B[43m)\u001B[49m\n\u001B[1;32m   3938\u001B[0m \u001B[38;5;28;01mreturn\u001B[39;00m \u001B[38;5;28mself\u001B[39m\u001B[38;5;241m.\u001B[39m_constructor(new_data)\u001B[38;5;241m.\u001B[39m__finalize__(\u001B[38;5;28mself\u001B[39m, method\u001B[38;5;241m=\u001B[39m\u001B[38;5;124m\"\u001B[39m\u001B[38;5;124mtake\u001B[39m\u001B[38;5;124m\"\u001B[39m)\n",
      "File \u001B[0;32m~/mambaforge/envs/dataspell/lib/python3.8/site-packages/pandas/core/internals/managers.py:960\u001B[0m, in \u001B[0;36mBaseBlockManager.take\u001B[0;34m(self, indexer, axis, verify, convert_indices)\u001B[0m\n\u001B[1;32m    959\u001B[0m \u001B[38;5;28;01mif\u001B[39;00m convert_indices:\n\u001B[0;32m--> 960\u001B[0m     indexer \u001B[38;5;241m=\u001B[39m \u001B[43mmaybe_convert_indices\u001B[49m\u001B[43m(\u001B[49m\u001B[43mindexer\u001B[49m\u001B[43m,\u001B[49m\u001B[43m \u001B[49m\u001B[43mn\u001B[49m\u001B[43m,\u001B[49m\u001B[43m \u001B[49m\u001B[43mverify\u001B[49m\u001B[38;5;241;43m=\u001B[39;49m\u001B[43mverify\u001B[49m\u001B[43m)\u001B[49m\n\u001B[1;32m    962\u001B[0m new_labels \u001B[38;5;241m=\u001B[39m \u001B[38;5;28mself\u001B[39m\u001B[38;5;241m.\u001B[39maxes[axis]\u001B[38;5;241m.\u001B[39mtake(indexer)\n",
      "File \u001B[0;32m~/mambaforge/envs/dataspell/lib/python3.8/site-packages/pandas/core/indexers/utils.py:284\u001B[0m, in \u001B[0;36mmaybe_convert_indices\u001B[0;34m(indices, n, verify)\u001B[0m\n\u001B[1;32m    283\u001B[0m     \u001B[38;5;28;01mif\u001B[39;00m mask\u001B[38;5;241m.\u001B[39many():\n\u001B[0;32m--> 284\u001B[0m         \u001B[38;5;28;01mraise\u001B[39;00m \u001B[38;5;167;01mIndexError\u001B[39;00m(\u001B[38;5;124m\"\u001B[39m\u001B[38;5;124mindices are out-of-bounds\u001B[39m\u001B[38;5;124m\"\u001B[39m)\n\u001B[1;32m    285\u001B[0m \u001B[38;5;28;01mreturn\u001B[39;00m indices\n",
      "\u001B[0;31mIndexError\u001B[0m: indices are out-of-bounds",
      "\nThe above exception was the direct cause of the following exception:\n",
      "\u001B[0;31mIndexError\u001B[0m                                Traceback (most recent call last)",
      "File \u001B[0;32m<timed exec>:6\u001B[0m\n",
      "File \u001B[0;32m~/mambaforge/envs/dataspell/lib/python3.8/site-packages/optuna/study/study.py:451\u001B[0m, in \u001B[0;36mStudy.optimize\u001B[0;34m(self, func, n_trials, timeout, n_jobs, catch, callbacks, gc_after_trial, show_progress_bar)\u001B[0m\n\u001B[1;32m    348\u001B[0m \u001B[38;5;28;01mdef\u001B[39;00m \u001B[38;5;21moptimize\u001B[39m(\n\u001B[1;32m    349\u001B[0m     \u001B[38;5;28mself\u001B[39m,\n\u001B[1;32m    350\u001B[0m     func: ObjectiveFuncType,\n\u001B[0;32m   (...)\u001B[0m\n\u001B[1;32m    357\u001B[0m     show_progress_bar: \u001B[38;5;28mbool\u001B[39m \u001B[38;5;241m=\u001B[39m \u001B[38;5;28;01mFalse\u001B[39;00m,\n\u001B[1;32m    358\u001B[0m ) \u001B[38;5;241m-\u001B[39m\u001B[38;5;241m>\u001B[39m \u001B[38;5;28;01mNone\u001B[39;00m:\n\u001B[1;32m    359\u001B[0m \u001B[38;5;250m    \u001B[39m\u001B[38;5;124;03m\"\"\"Optimize an objective function.\u001B[39;00m\n\u001B[1;32m    360\u001B[0m \n\u001B[1;32m    361\u001B[0m \u001B[38;5;124;03m    Optimization is done by choosing a suitable set of hyperparameter values from a given\u001B[39;00m\n\u001B[0;32m   (...)\u001B[0m\n\u001B[1;32m    449\u001B[0m \u001B[38;5;124;03m            If nested invocation of this method occurs.\u001B[39;00m\n\u001B[1;32m    450\u001B[0m \u001B[38;5;124;03m    \"\"\"\u001B[39;00m\n\u001B[0;32m--> 451\u001B[0m     \u001B[43m_optimize\u001B[49m\u001B[43m(\u001B[49m\n\u001B[1;32m    452\u001B[0m \u001B[43m        \u001B[49m\u001B[43mstudy\u001B[49m\u001B[38;5;241;43m=\u001B[39;49m\u001B[38;5;28;43mself\u001B[39;49m\u001B[43m,\u001B[49m\n\u001B[1;32m    453\u001B[0m \u001B[43m        \u001B[49m\u001B[43mfunc\u001B[49m\u001B[38;5;241;43m=\u001B[39;49m\u001B[43mfunc\u001B[49m\u001B[43m,\u001B[49m\n\u001B[1;32m    454\u001B[0m \u001B[43m        \u001B[49m\u001B[43mn_trials\u001B[49m\u001B[38;5;241;43m=\u001B[39;49m\u001B[43mn_trials\u001B[49m\u001B[43m,\u001B[49m\n\u001B[1;32m    455\u001B[0m \u001B[43m        \u001B[49m\u001B[43mtimeout\u001B[49m\u001B[38;5;241;43m=\u001B[39;49m\u001B[43mtimeout\u001B[49m\u001B[43m,\u001B[49m\n\u001B[1;32m    456\u001B[0m \u001B[43m        \u001B[49m\u001B[43mn_jobs\u001B[49m\u001B[38;5;241;43m=\u001B[39;49m\u001B[43mn_jobs\u001B[49m\u001B[43m,\u001B[49m\n\u001B[1;32m    457\u001B[0m \u001B[43m        \u001B[49m\u001B[43mcatch\u001B[49m\u001B[38;5;241;43m=\u001B[39;49m\u001B[38;5;28;43mtuple\u001B[39;49m\u001B[43m(\u001B[49m\u001B[43mcatch\u001B[49m\u001B[43m)\u001B[49m\u001B[43m \u001B[49m\u001B[38;5;28;43;01mif\u001B[39;49;00m\u001B[43m \u001B[49m\u001B[38;5;28;43misinstance\u001B[39;49m\u001B[43m(\u001B[49m\u001B[43mcatch\u001B[49m\u001B[43m,\u001B[49m\u001B[43m \u001B[49m\u001B[43mIterable\u001B[49m\u001B[43m)\u001B[49m\u001B[43m \u001B[49m\u001B[38;5;28;43;01melse\u001B[39;49;00m\u001B[43m \u001B[49m\u001B[43m(\u001B[49m\u001B[43mcatch\u001B[49m\u001B[43m,\u001B[49m\u001B[43m)\u001B[49m\u001B[43m,\u001B[49m\n\u001B[1;32m    458\u001B[0m \u001B[43m        \u001B[49m\u001B[43mcallbacks\u001B[49m\u001B[38;5;241;43m=\u001B[39;49m\u001B[43mcallbacks\u001B[49m\u001B[43m,\u001B[49m\n\u001B[1;32m    459\u001B[0m \u001B[43m        \u001B[49m\u001B[43mgc_after_trial\u001B[49m\u001B[38;5;241;43m=\u001B[39;49m\u001B[43mgc_after_trial\u001B[49m\u001B[43m,\u001B[49m\n\u001B[1;32m    460\u001B[0m \u001B[43m        \u001B[49m\u001B[43mshow_progress_bar\u001B[49m\u001B[38;5;241;43m=\u001B[39;49m\u001B[43mshow_progress_bar\u001B[49m\u001B[43m,\u001B[49m\n\u001B[1;32m    461\u001B[0m \u001B[43m    \u001B[49m\u001B[43m)\u001B[49m\n",
      "File \u001B[0;32m~/mambaforge/envs/dataspell/lib/python3.8/site-packages/optuna/study/_optimize.py:66\u001B[0m, in \u001B[0;36m_optimize\u001B[0;34m(study, func, n_trials, timeout, n_jobs, catch, callbacks, gc_after_trial, show_progress_bar)\u001B[0m\n\u001B[1;32m     64\u001B[0m \u001B[38;5;28;01mtry\u001B[39;00m:\n\u001B[1;32m     65\u001B[0m     \u001B[38;5;28;01mif\u001B[39;00m n_jobs \u001B[38;5;241m==\u001B[39m \u001B[38;5;241m1\u001B[39m:\n\u001B[0;32m---> 66\u001B[0m         \u001B[43m_optimize_sequential\u001B[49m\u001B[43m(\u001B[49m\n\u001B[1;32m     67\u001B[0m \u001B[43m            \u001B[49m\u001B[43mstudy\u001B[49m\u001B[43m,\u001B[49m\n\u001B[1;32m     68\u001B[0m \u001B[43m            \u001B[49m\u001B[43mfunc\u001B[49m\u001B[43m,\u001B[49m\n\u001B[1;32m     69\u001B[0m \u001B[43m            \u001B[49m\u001B[43mn_trials\u001B[49m\u001B[43m,\u001B[49m\n\u001B[1;32m     70\u001B[0m \u001B[43m            \u001B[49m\u001B[43mtimeout\u001B[49m\u001B[43m,\u001B[49m\n\u001B[1;32m     71\u001B[0m \u001B[43m            \u001B[49m\u001B[43mcatch\u001B[49m\u001B[43m,\u001B[49m\n\u001B[1;32m     72\u001B[0m \u001B[43m            \u001B[49m\u001B[43mcallbacks\u001B[49m\u001B[43m,\u001B[49m\n\u001B[1;32m     73\u001B[0m \u001B[43m            \u001B[49m\u001B[43mgc_after_trial\u001B[49m\u001B[43m,\u001B[49m\n\u001B[1;32m     74\u001B[0m \u001B[43m            \u001B[49m\u001B[43mreseed_sampler_rng\u001B[49m\u001B[38;5;241;43m=\u001B[39;49m\u001B[38;5;28;43;01mFalse\u001B[39;49;00m\u001B[43m,\u001B[49m\n\u001B[1;32m     75\u001B[0m \u001B[43m            \u001B[49m\u001B[43mtime_start\u001B[49m\u001B[38;5;241;43m=\u001B[39;49m\u001B[38;5;28;43;01mNone\u001B[39;49;00m\u001B[43m,\u001B[49m\n\u001B[1;32m     76\u001B[0m \u001B[43m            \u001B[49m\u001B[43mprogress_bar\u001B[49m\u001B[38;5;241;43m=\u001B[39;49m\u001B[43mprogress_bar\u001B[49m\u001B[43m,\u001B[49m\n\u001B[1;32m     77\u001B[0m \u001B[43m        \u001B[49m\u001B[43m)\u001B[49m\n\u001B[1;32m     78\u001B[0m     \u001B[38;5;28;01melse\u001B[39;00m:\n\u001B[1;32m     79\u001B[0m         \u001B[38;5;28;01mif\u001B[39;00m n_jobs \u001B[38;5;241m==\u001B[39m \u001B[38;5;241m-\u001B[39m\u001B[38;5;241m1\u001B[39m:\n",
      "File \u001B[0;32m~/mambaforge/envs/dataspell/lib/python3.8/site-packages/optuna/study/_optimize.py:163\u001B[0m, in \u001B[0;36m_optimize_sequential\u001B[0;34m(study, func, n_trials, timeout, catch, callbacks, gc_after_trial, reseed_sampler_rng, time_start, progress_bar)\u001B[0m\n\u001B[1;32m    160\u001B[0m         \u001B[38;5;28;01mbreak\u001B[39;00m\n\u001B[1;32m    162\u001B[0m \u001B[38;5;28;01mtry\u001B[39;00m:\n\u001B[0;32m--> 163\u001B[0m     frozen_trial \u001B[38;5;241m=\u001B[39m \u001B[43m_run_trial\u001B[49m\u001B[43m(\u001B[49m\u001B[43mstudy\u001B[49m\u001B[43m,\u001B[49m\u001B[43m \u001B[49m\u001B[43mfunc\u001B[49m\u001B[43m,\u001B[49m\u001B[43m \u001B[49m\u001B[43mcatch\u001B[49m\u001B[43m)\u001B[49m\n\u001B[1;32m    164\u001B[0m \u001B[38;5;28;01mfinally\u001B[39;00m:\n\u001B[1;32m    165\u001B[0m     \u001B[38;5;66;03m# The following line mitigates memory problems that can be occurred in some\u001B[39;00m\n\u001B[1;32m    166\u001B[0m     \u001B[38;5;66;03m# environments (e.g., services that use computing containers such as GitHub Actions).\u001B[39;00m\n\u001B[1;32m    167\u001B[0m     \u001B[38;5;66;03m# Please refer to the following PR for further details:\u001B[39;00m\n\u001B[1;32m    168\u001B[0m     \u001B[38;5;66;03m# https://github.com/optuna/optuna/pull/325.\u001B[39;00m\n\u001B[1;32m    169\u001B[0m     \u001B[38;5;28;01mif\u001B[39;00m gc_after_trial:\n",
      "File \u001B[0;32m~/mambaforge/envs/dataspell/lib/python3.8/site-packages/optuna/study/_optimize.py:251\u001B[0m, in \u001B[0;36m_run_trial\u001B[0;34m(study, func, catch)\u001B[0m\n\u001B[1;32m    244\u001B[0m         \u001B[38;5;28;01massert\u001B[39;00m \u001B[38;5;28;01mFalse\u001B[39;00m, \u001B[38;5;124m\"\u001B[39m\u001B[38;5;124mShould not reach.\u001B[39m\u001B[38;5;124m\"\u001B[39m\n\u001B[1;32m    246\u001B[0m \u001B[38;5;28;01mif\u001B[39;00m (\n\u001B[1;32m    247\u001B[0m     frozen_trial\u001B[38;5;241m.\u001B[39mstate \u001B[38;5;241m==\u001B[39m TrialState\u001B[38;5;241m.\u001B[39mFAIL\n\u001B[1;32m    248\u001B[0m     \u001B[38;5;129;01mand\u001B[39;00m func_err \u001B[38;5;129;01mis\u001B[39;00m \u001B[38;5;129;01mnot\u001B[39;00m \u001B[38;5;28;01mNone\u001B[39;00m\n\u001B[1;32m    249\u001B[0m     \u001B[38;5;129;01mand\u001B[39;00m \u001B[38;5;129;01mnot\u001B[39;00m \u001B[38;5;28misinstance\u001B[39m(func_err, catch)\n\u001B[1;32m    250\u001B[0m ):\n\u001B[0;32m--> 251\u001B[0m     \u001B[38;5;28;01mraise\u001B[39;00m func_err\n\u001B[1;32m    252\u001B[0m \u001B[38;5;28;01mreturn\u001B[39;00m frozen_trial\n",
      "File \u001B[0;32m~/mambaforge/envs/dataspell/lib/python3.8/site-packages/optuna/study/_optimize.py:200\u001B[0m, in \u001B[0;36m_run_trial\u001B[0;34m(study, func, catch)\u001B[0m\n\u001B[1;32m    198\u001B[0m \u001B[38;5;28;01mwith\u001B[39;00m get_heartbeat_thread(trial\u001B[38;5;241m.\u001B[39m_trial_id, study\u001B[38;5;241m.\u001B[39m_storage):\n\u001B[1;32m    199\u001B[0m     \u001B[38;5;28;01mtry\u001B[39;00m:\n\u001B[0;32m--> 200\u001B[0m         value_or_values \u001B[38;5;241m=\u001B[39m \u001B[43mfunc\u001B[49m\u001B[43m(\u001B[49m\u001B[43mtrial\u001B[49m\u001B[43m)\u001B[49m\n\u001B[1;32m    201\u001B[0m     \u001B[38;5;28;01mexcept\u001B[39;00m exceptions\u001B[38;5;241m.\u001B[39mTrialPruned \u001B[38;5;28;01mas\u001B[39;00m e:\n\u001B[1;32m    202\u001B[0m         \u001B[38;5;66;03m# TODO(mamu): Handle multi-objective cases.\u001B[39;00m\n\u001B[1;32m    203\u001B[0m         state \u001B[38;5;241m=\u001B[39m TrialState\u001B[38;5;241m.\u001B[39mPRUNED\n",
      "Cell \u001B[0;32mIn[93], line 25\u001B[0m, in \u001B[0;36mobjective\u001B[0;34m(trial)\u001B[0m\n\u001B[1;32m     22\u001B[0m cur_fold \u001B[38;5;241m=\u001B[39m \u001B[38;5;241m1\u001B[39m\n\u001B[1;32m     23\u001B[0m \u001B[38;5;28;01mfor\u001B[39;00m trn_idx, val_idx \u001B[38;5;129;01min\u001B[39;00m skf\u001B[38;5;241m.\u001B[39msplit(train_smt, y):\n\u001B[1;32m     24\u001B[0m     \u001B[38;5;66;03m# split indicies into train and validation\u001B[39;00m\n\u001B[0;32m---> 25\u001B[0m     x_train \u001B[38;5;241m=\u001B[39m \u001B[43mtrain\u001B[49m\u001B[43m[\u001B[49m\u001B[43mfeatures\u001B[49m\u001B[43m]\u001B[49m\u001B[38;5;241;43m.\u001B[39;49m\u001B[43miloc\u001B[49m\u001B[43m[\u001B[49m\u001B[43mtrn_idx\u001B[49m\u001B[43m]\u001B[49m\n\u001B[1;32m     26\u001B[0m     y_train \u001B[38;5;241m=\u001B[39m y\u001B[38;5;241m.\u001B[39miloc[trn_idx]\n\u001B[1;32m     27\u001B[0m     x_valid \u001B[38;5;241m=\u001B[39m train[features]\u001B[38;5;241m.\u001B[39miloc[val_idx]\n",
      "File \u001B[0;32m~/mambaforge/envs/dataspell/lib/python3.8/site-packages/pandas/core/indexing.py:1103\u001B[0m, in \u001B[0;36m_LocationIndexer.__getitem__\u001B[0;34m(self, key)\u001B[0m\n\u001B[1;32m   1100\u001B[0m axis \u001B[38;5;241m=\u001B[39m \u001B[38;5;28mself\u001B[39m\u001B[38;5;241m.\u001B[39maxis \u001B[38;5;129;01mor\u001B[39;00m \u001B[38;5;241m0\u001B[39m\n\u001B[1;32m   1102\u001B[0m maybe_callable \u001B[38;5;241m=\u001B[39m com\u001B[38;5;241m.\u001B[39mapply_if_callable(key, \u001B[38;5;28mself\u001B[39m\u001B[38;5;241m.\u001B[39mobj)\n\u001B[0;32m-> 1103\u001B[0m \u001B[38;5;28;01mreturn\u001B[39;00m \u001B[38;5;28;43mself\u001B[39;49m\u001B[38;5;241;43m.\u001B[39;49m\u001B[43m_getitem_axis\u001B[49m\u001B[43m(\u001B[49m\u001B[43mmaybe_callable\u001B[49m\u001B[43m,\u001B[49m\u001B[43m \u001B[49m\u001B[43maxis\u001B[49m\u001B[38;5;241;43m=\u001B[39;49m\u001B[43maxis\u001B[49m\u001B[43m)\u001B[49m\n",
      "File \u001B[0;32m~/mambaforge/envs/dataspell/lib/python3.8/site-packages/pandas/core/indexing.py:1647\u001B[0m, in \u001B[0;36m_iLocIndexer._getitem_axis\u001B[0;34m(self, key, axis)\u001B[0m\n\u001B[1;32m   1645\u001B[0m \u001B[38;5;66;03m# a list of integers\u001B[39;00m\n\u001B[1;32m   1646\u001B[0m \u001B[38;5;28;01melif\u001B[39;00m is_list_like_indexer(key):\n\u001B[0;32m-> 1647\u001B[0m     \u001B[38;5;28;01mreturn\u001B[39;00m \u001B[38;5;28;43mself\u001B[39;49m\u001B[38;5;241;43m.\u001B[39;49m\u001B[43m_get_list_axis\u001B[49m\u001B[43m(\u001B[49m\u001B[43mkey\u001B[49m\u001B[43m,\u001B[49m\u001B[43m \u001B[49m\u001B[43maxis\u001B[49m\u001B[38;5;241;43m=\u001B[39;49m\u001B[43maxis\u001B[49m\u001B[43m)\u001B[49m\n\u001B[1;32m   1649\u001B[0m \u001B[38;5;66;03m# a single integer\u001B[39;00m\n\u001B[1;32m   1650\u001B[0m \u001B[38;5;28;01melse\u001B[39;00m:\n\u001B[1;32m   1651\u001B[0m     key \u001B[38;5;241m=\u001B[39m item_from_zerodim(key)\n",
      "File \u001B[0;32m~/mambaforge/envs/dataspell/lib/python3.8/site-packages/pandas/core/indexing.py:1621\u001B[0m, in \u001B[0;36m_iLocIndexer._get_list_axis\u001B[0;34m(self, key, axis)\u001B[0m\n\u001B[1;32m   1618\u001B[0m     \u001B[38;5;28;01mreturn\u001B[39;00m \u001B[38;5;28mself\u001B[39m\u001B[38;5;241m.\u001B[39mobj\u001B[38;5;241m.\u001B[39m_take_with_is_copy(key, axis\u001B[38;5;241m=\u001B[39maxis)\n\u001B[1;32m   1619\u001B[0m \u001B[38;5;28;01mexcept\u001B[39;00m \u001B[38;5;167;01mIndexError\u001B[39;00m \u001B[38;5;28;01mas\u001B[39;00m err:\n\u001B[1;32m   1620\u001B[0m     \u001B[38;5;66;03m# re-raise with different error message\u001B[39;00m\n\u001B[0;32m-> 1621\u001B[0m     \u001B[38;5;28;01mraise\u001B[39;00m \u001B[38;5;167;01mIndexError\u001B[39;00m(\u001B[38;5;124m\"\u001B[39m\u001B[38;5;124mpositional indexers are out-of-bounds\u001B[39m\u001B[38;5;124m\"\u001B[39m) \u001B[38;5;28;01mfrom\u001B[39;00m \u001B[38;5;21;01merr\u001B[39;00m\n",
      "\u001B[0;31mIndexError\u001B[0m: positional indexers are out-of-bounds"
     ]
    }
   ],
   "source": [
    "%%time\n",
    "# create the study\n",
    "optuna.logging.set_verbosity(optuna.logging.WARNING)\n",
    "\n",
    "sampler = TPESampler(seed=1)\n",
    "study = optuna.create_study(study_name=\"lightgbm\", direction=\"maximize\", sampler=sampler)\n",
    "study.optimize(objective, n_trials=500)"
   ]
  },
  {
   "cell_type": "code",
   "execution_count": 95,
   "metadata": {
    "execution": {
     "iopub.execute_input": "2023-11-03T16:01:49.852999Z",
     "iopub.status.busy": "2023-11-03T16:01:49.852612Z",
     "iopub.status.idle": "2023-11-03T16:01:49.865111Z",
     "shell.execute_reply": "2023-11-03T16:01:49.863379Z",
     "shell.execute_reply.started": "2023-11-03T16:01:49.852968Z"
    },
    "ExecuteTime": {
     "end_time": "2023-11-09T22:06:27.562168540Z",
     "start_time": "2023-11-09T22:06:27.561815196Z"
    }
   },
   "outputs": [],
   "source": [
    "# est = results_np[:,0]\n",
    "# lr = results_np[:,1]\n",
    "# md = results_np[:,2]\n",
    "# score = results_np[:,4]"
   ]
  },
  {
   "cell_type": "code",
   "execution_count": 96,
   "metadata": {
    "execution": {
     "iopub.execute_input": "2023-11-03T16:01:49.866993Z",
     "iopub.status.busy": "2023-11-03T16:01:49.866655Z",
     "iopub.status.idle": "2023-11-03T16:01:49.880998Z",
     "shell.execute_reply": "2023-11-03T16:01:49.880191Z",
     "shell.execute_reply.started": "2023-11-03T16:01:49.866965Z"
    },
    "ExecuteTime": {
     "end_time": "2023-11-09T22:06:27.562214631Z",
     "start_time": "2023-11-09T22:06:27.561888820Z"
    }
   },
   "outputs": [],
   "source": [
    "# results_df = pd.DataFrame(est,columns=['estimators'])\n",
    "# results_df['learning_rate'] = lr\n",
    "# results_df['max_depth'] = md\n",
    "# results_df['score'] = score\n",
    "\n",
    "# results_df.head()"
   ]
  },
  {
   "cell_type": "code",
   "execution_count": 97,
   "metadata": {
    "execution": {
     "iopub.execute_input": "2023-11-03T16:01:49.886079Z",
     "iopub.status.busy": "2023-11-03T16:01:49.885495Z",
     "iopub.status.idle": "2023-11-03T16:01:49.904077Z",
     "shell.execute_reply": "2023-11-03T16:01:49.902004Z",
     "shell.execute_reply.started": "2023-11-03T16:01:49.886047Z"
    },
    "ExecuteTime": {
     "end_time": "2023-11-09T22:06:27.566722737Z",
     "start_time": "2023-11-09T22:06:27.561909721Z"
    }
   },
   "outputs": [],
   "source": [
    "# results_df[results_df.score == np.max(results_df.score)]\n",
    "# max at 144: est 1000, lr = .02, md = 3, score = .86534"
   ]
  },
  {
   "cell_type": "code",
   "execution_count": 98,
   "metadata": {
    "execution": {
     "iopub.execute_input": "2023-11-03T16:01:49.906516Z",
     "iopub.status.busy": "2023-11-03T16:01:49.906170Z",
     "iopub.status.idle": "2023-11-03T16:01:49.918509Z",
     "shell.execute_reply": "2023-11-03T16:01:49.917713Z",
     "shell.execute_reply.started": "2023-11-03T16:01:49.906488Z"
    },
    "ExecuteTime": {
     "end_time": "2023-11-09T22:06:27.605907952Z",
     "start_time": "2023-11-09T22:06:27.565215120Z"
    }
   },
   "outputs": [],
   "source": [
    "# results_df.to_csv('lgbm_tune1.csv')"
   ]
  },
  {
   "cell_type": "markdown",
   "metadata": {},
   "source": [
    "# Ensemble"
   ]
  },
  {
   "cell_type": "code",
   "execution_count": 99,
   "metadata": {
    "execution": {
     "iopub.execute_input": "2023-11-03T16:01:49.920402Z",
     "iopub.status.busy": "2023-11-03T16:01:49.919906Z",
     "iopub.status.idle": "2023-11-03T16:01:49.934849Z",
     "shell.execute_reply": "2023-11-03T16:01:49.934039Z",
     "shell.execute_reply.started": "2023-11-03T16:01:49.920375Z"
    },
    "ExecuteTime": {
     "end_time": "2023-11-09T22:06:27.606032266Z",
     "start_time": "2023-11-09T22:06:27.605834955Z"
    }
   },
   "outputs": [],
   "source": [
    "# import plotly.express as px\n",
    "# import random\n",
    "\n",
    "# # model 1\n",
    "# model1 = oof_cat\n",
    "# preds_1 = preds_cat\n",
    "\n",
    "# # models 2\n",
    "# model2 = oof_xgb\n",
    "# preds_2 = preds_xgb\n",
    "\n",
    "# # model 3\n",
    "# model3 = oof_lgbm\n",
    "# preds_3 = preds_lgbm\n",
    "\n",
    "# # model 4\n",
    "# # model4 = oof_hgbc_ens\n",
    "# # preds_4 = hgbc_preds\n",
    "\n",
    "# # model 5\n",
    "# # model5 = oof_lr\n",
    "# # preds_5 = preds_lr\n",
    "\n",
    "# # generate a random mix for a stochastic determination of min\n",
    "# m = []\n",
    "# for i in range(1000):\n",
    "#     # Generate 3 random numbers to make a mix\n",
    "#     a,b,c = random.random(),random.random(),random.random() #, random.random(),random.random()\n",
    "#     total = a + b + c #+ d# + e\n",
    "#     a /= total\n",
    "#     b /= total\n",
    "#     c /= total\n",
    "# #     d /= total\n",
    "# #     e /= total\n",
    "    \n",
    "#     tm_ens = a*model1 + b*model2 + c*model3 # + d*model4# + e*model5\n",
    "#     tm_score = roc_auc_score(y,tm_ens)  # swap out error function here\n",
    "#     m.append([a,b,c, tm_score])\n",
    "    \n",
    "    \n",
    "# three_model = pd.DataFrame(m,columns=['a','b','c','score'])\n",
    "# three_model.head()\n",
    "\n",
    "# # find min/max score\n",
    "# max_row = three_model[three_model.score == three_model.score.max()]\n",
    "\n",
    "# # get ratios\n",
    "# ratio1 = max_row.a.values[0]\n",
    "# ratio2 = max_row.b.values[0]\n",
    "# ratio3 = max_row.c.values[0]\n",
    "# # ratio4 = max_row.d.values[0]\n",
    "# #ratio5 = max_row.e.values[0]\n",
    "\n",
    "# # predictions on test set\n",
    "# preds_ens = ratio1*preds_1 + \\\n",
    "#             ratio2*preds_2 + \\\n",
    "#             ratio3*preds_3 # + \\\n",
    "# #             ratio4*preds_4 + \\\n",
    "# #            ratio5+preds_5.mean(axis=1)\n",
    "\n",
    "\n",
    "# oof_3_model_ens = ratio1*oof_cat + ratio2*oof_xgb + ratio3*oof_lgbm # + ratio4*oof_hgbc_ens\n",
    "# score = roc_auc_score(y,oof_3_model_ens)\n",
    "# print(f'OOF score of ensemble: {score}')"
   ]
  },
  {
   "cell_type": "markdown",
   "metadata": {},
   "source": [
    "## Plot Results"
   ]
  },
  {
   "cell_type": "code",
   "execution_count": 100,
   "metadata": {
    "execution": {
     "iopub.execute_input": "2023-11-03T16:01:49.936452Z",
     "iopub.status.busy": "2023-11-03T16:01:49.936096Z",
     "iopub.status.idle": "2023-11-03T16:01:49.951873Z",
     "shell.execute_reply": "2023-11-03T16:01:49.950562Z",
     "shell.execute_reply.started": "2023-11-03T16:01:49.936423Z"
    },
    "ExecuteTime": {
     "end_time": "2023-11-09T22:06:27.646908049Z",
     "start_time": "2023-11-09T22:06:27.605968321Z"
    }
   },
   "outputs": [],
   "source": [
    "# # plotly 3d surface\n",
    "# fig = px.scatter_3d(three_model, x='a', y='b', z='c',color='score',\n",
    "#                    title='Score vs ratios for 3 model ensemble')  # scatter of 3 cols of df\n",
    "# fig.update_traces(marker={'size': 4})  # scene=dict(zaxis=dict(range=[-5, 5]))\n",
    "# fig.show(renderer='notebook')"
   ]
  },
  {
   "cell_type": "markdown",
   "metadata": {},
   "source": [
    "## Voting Classifier"
   ]
  },
  {
   "cell_type": "code",
   "execution_count": 101,
   "metadata": {
    "execution": {
     "iopub.execute_input": "2023-11-03T16:01:49.953835Z",
     "iopub.status.busy": "2023-11-03T16:01:49.953429Z",
     "iopub.status.idle": "2023-11-03T16:01:49.973476Z",
     "shell.execute_reply": "2023-11-03T16:01:49.971920Z",
     "shell.execute_reply.started": "2023-11-03T16:01:49.953797Z"
    },
    "ExecuteTime": {
     "end_time": "2023-11-09T22:06:27.647019753Z",
     "start_time": "2023-11-09T22:06:27.646815652Z"
    }
   },
   "outputs": [],
   "source": [
    "\n",
    "# voting_classifier = VotingClassifier(estimators=[\n",
    "#     ('catboost', model_cat),\n",
    "#     ('lgbm', model_lgbm),\n",
    "#     ('xgb', model_xgb)\n",
    "# ], voting='soft')\n",
    "\n",
    "# # voting_classifier.fit(train, y)\n",
    "# # y_pred = voting_classifier.predict(val_X)\n",
    "# # auroc_score = roc_auc_score(val_Y, y_pred)\n",
    "# # print(f\"AUC-ROC score on validation set: {auroc_score}\")\n",
    "\n",
    "# cv_scores = cross_val_score(voting_classifier, train[features], y, cv=5, scoring='roc_auc')\n",
    "\n",
    "# print(\"Cross-validation scores:\", cv_scores)\n",
    "# print(\"Mean AUC-ROC score:\", np.mean(cv_scores))"
   ]
  },
  {
   "cell_type": "code",
   "execution_count": 102,
   "metadata": {
    "execution": {
     "iopub.execute_input": "2023-11-03T16:01:49.975667Z",
     "iopub.status.busy": "2023-11-03T16:01:49.975261Z",
     "iopub.status.idle": "2023-11-03T16:01:49.990914Z",
     "shell.execute_reply": "2023-11-03T16:01:49.989412Z",
     "shell.execute_reply.started": "2023-11-03T16:01:49.975632Z"
    },
    "ExecuteTime": {
     "end_time": "2023-11-09T22:06:27.687903768Z",
     "start_time": "2023-11-09T22:06:27.647664879Z"
    }
   },
   "outputs": [],
   "source": [
    "# voting_classifier.fit(train[features], y)\n",
    "# voting_preds = voting_classifier.predict_proba(x_test[features])[:, 1]\n",
    "\n",
    "# ['smoking'] = test_preds.tolist()\n"
   ]
  },
  {
   "cell_type": "markdown",
   "metadata": {},
   "source": [
    "### Potential Visualization Improvements\n",
    "* rotate plane to coincide with the z=0 plane, like PCA\n",
    "* stack planes with transparency to get another visualization dimensions"
   ]
  },
  {
   "cell_type": "code",
   "execution_count": 103,
   "metadata": {
    "execution": {
     "iopub.execute_input": "2023-11-03T16:01:49.993712Z",
     "iopub.status.busy": "2023-11-03T16:01:49.993089Z",
     "iopub.status.idle": "2023-11-03T16:01:50.005787Z",
     "shell.execute_reply": "2023-11-03T16:01:50.004853Z",
     "shell.execute_reply.started": "2023-11-03T16:01:49.993677Z"
    },
    "ExecuteTime": {
     "end_time": "2023-11-09T22:06:27.731501428Z",
     "start_time": "2023-11-09T22:06:27.687823538Z"
    }
   },
   "outputs": [],
   "source": [
    "# three_model.head()"
   ]
  },
  {
   "cell_type": "code",
   "execution_count": 104,
   "metadata": {
    "execution": {
     "iopub.execute_input": "2023-11-03T16:01:50.007994Z",
     "iopub.status.busy": "2023-11-03T16:01:50.006929Z",
     "iopub.status.idle": "2023-11-03T16:01:50.023585Z",
     "shell.execute_reply": "2023-11-03T16:01:50.022011Z",
     "shell.execute_reply.started": "2023-11-03T16:01:50.007962Z"
    },
    "ExecuteTime": {
     "end_time": "2023-11-09T22:06:27.731671905Z",
     "start_time": "2023-11-09T22:06:27.728859494Z"
    }
   },
   "outputs": [],
   "source": [
    "# # sort values so best scores are on the top\n",
    "# sorted_3m = three_model.sort_values(by='score',ascending=False)\n",
    "\n",
    "# # take the mean ratios of the top 10 results\n",
    "# a = sorted_3m.a[0:10].mean()\n",
    "# b = sorted_3m.b[0:10].mean()\n",
    "# c = sorted_3m.c[0:10].mean()\n",
    "# #d = sorted_3m.d[0:10].mean()\n",
    "\n",
    "# tot = a + b + c #+ d\n",
    "\n",
    "# # make a prediction using the average of the top 10 ratios\n",
    "# preds_ens = (a/tot)*preds_1.mean(axis=1) + (b/tot)*preds_2.mean(axis=1) + (c/tot)*preds_3.mean(axis=1) # + (d/tot)*preds_4  \n",
    "\n",
    "# oof_3_model_ens = (a/tot)*oof_cat + (b/tot)*oof_xgb + (c/tot)*oof_lgbm # + (d/tot)*oof_hgbc_ens\n",
    "# score = roc_auc_score(y,oof_3_model_ens)\n",
    "# print(f'OOF score of ensemble: {score:.5f}')\n"
   ]
  },
  {
   "cell_type": "markdown",
   "metadata": {},
   "source": [
    "# Chose Predictions and Submit Results"
   ]
  },
  {
   "cell_type": "code",
   "execution_count": 105,
   "metadata": {
    "execution": {
     "iopub.execute_input": "2023-11-03T16:01:50.025130Z",
     "iopub.status.busy": "2023-11-03T16:01:50.024706Z",
     "iopub.status.idle": "2023-11-03T16:01:50.044561Z",
     "shell.execute_reply": "2023-11-03T16:01:50.042596Z",
     "shell.execute_reply.started": "2023-11-03T16:01:50.025097Z"
    },
    "ExecuteTime": {
     "end_time": "2023-11-09T22:06:27.770280677Z",
     "start_time": "2023-11-09T22:06:27.728951809Z"
    }
   },
   "outputs": [
    {
     "data": {
      "text/plain": "array([0.11671548, 0.11671548, 0.11671548, ..., 0.12761154, 0.03592716,\n       0.04095039])"
     },
     "execution_count": 105,
     "metadata": {},
     "output_type": "execute_result"
    }
   ],
   "source": [
    "# preds = (preds_xgb_full + preds_lgbm_full)/2\n",
    "preds = preds_xgb.mean(axis=1) # + preds_cat)/2\n",
    "#preds = voting_preds\n",
    "preds"
   ]
  },
  {
   "cell_type": "code",
   "execution_count": 106,
   "metadata": {
    "execution": {
     "iopub.execute_input": "2023-11-03T16:01:50.046629Z",
     "iopub.status.busy": "2023-11-03T16:01:50.046286Z",
     "iopub.status.idle": "2023-11-03T16:01:50.250197Z",
     "shell.execute_reply": "2023-11-03T16:01:50.248469Z",
     "shell.execute_reply.started": "2023-11-03T16:01:50.046606Z"
    },
    "ExecuteTime": {
     "end_time": "2023-11-09T22:06:27.835283335Z",
     "start_time": "2023-11-09T22:06:27.769862872Z"
    }
   },
   "outputs": [
    {
     "data": {
      "text/plain": "       id   smoking\n0  159256  0.116715\n1  159257  0.116715\n2  159258  0.116715",
      "text/html": "<div>\n<style scoped>\n    .dataframe tbody tr th:only-of-type {\n        vertical-align: middle;\n    }\n\n    .dataframe tbody tr th {\n        vertical-align: top;\n    }\n\n    .dataframe thead th {\n        text-align: right;\n    }\n</style>\n<table border=\"1\" class=\"dataframe\">\n  <thead>\n    <tr style=\"text-align: right;\">\n      <th></th>\n      <th>id</th>\n      <th>smoking</th>\n    </tr>\n  </thead>\n  <tbody>\n    <tr>\n      <th>0</th>\n      <td>159256</td>\n      <td>0.116715</td>\n    </tr>\n    <tr>\n      <th>1</th>\n      <td>159257</td>\n      <td>0.116715</td>\n    </tr>\n    <tr>\n      <th>2</th>\n      <td>159258</td>\n      <td>0.116715</td>\n    </tr>\n  </tbody>\n</table>\n</div>"
     },
     "execution_count": 106,
     "metadata": {},
     "output_type": "execute_result"
    }
   ],
   "source": [
    "ss.smoking = preds\n",
    "ss.to_csv('submission.csv',index=False)\n",
    "ss.head(3)"
   ]
  },
  {
   "cell_type": "code",
   "execution_count": 107,
   "metadata": {
    "execution": {
     "iopub.execute_input": "2023-11-03T16:01:50.254568Z",
     "iopub.status.busy": "2023-11-03T16:01:50.254221Z",
     "iopub.status.idle": "2023-11-03T16:01:51.169406Z",
     "shell.execute_reply": "2023-11-03T16:01:51.167575Z",
     "shell.execute_reply.started": "2023-11-03T16:01:50.254541Z"
    },
    "ExecuteTime": {
     "end_time": "2023-11-09T22:06:28.208332395Z",
     "start_time": "2023-11-09T22:06:27.835163447Z"
    }
   },
   "outputs": [
    {
     "data": {
      "text/plain": "<Figure size 500x350 with 1 Axes>",
      "image/png": "[encoded data removed]"
     },
     "metadata": {},
     "output_type": "display_data"
    }
   ],
   "source": [
    "plt.figure(figsize=(5,3.5))\n",
    "ss.smoking.plot(kind='hist',bins=50)\n",
    "plt.title('Test Predictions');"
   ]
  },
  {
   "cell_type": "code",
   "execution_count": 107,
   "metadata": {
    "ExecuteTime": {
     "end_time": "2023-11-09T22:06:28.249952825Z",
     "start_time": "2023-11-09T22:06:28.209330345Z"
    }
   },
   "outputs": [],
   "source": []
  }
 ],
 "metadata": {
  "kernelspec": {
   "display_name": "Python 3 (ipykernel)",
   "language": "python",
   "name": "python3"
  },
  "language_info": {
   "codemirror_mode": {
    "name": "ipython",
    "version": 3
   },
   "file_extension": ".py",
   "mimetype": "text/x-python",
   "name": "python",
   "nbconvert_exporter": "python",
   "pygments_lexer": "ipython3",
   "version": "3.9.16"
  }
 },
 "nbformat": 4,
 "nbformat_minor": 4
}
